{
 "cells": [
  {
   "cell_type": "markdown",
   "metadata": {},
   "source": [
    "# Assignment: Cluster Iris flowers\n",
    "\n",
    "In this assignment you are going to build an unsupervised learning app that clusters Iris flowers into discrete groups. \n",
    "\n",
    "There are three types of Iris flowers: Versicolor, Setosa, and Virginica. Each flower has two sets of leaves: the inner Petals and the outer Sepals.\n",
    "\n",
    "Your goal is to build an app that can identify an Iris flower by its sepal and petal size.\n",
    "\n",
    "![MNIST digits](./assets/flowers.png)\n",
    "\n",
    "Your challenge is that you're not going to use the dataset labels. Your app has to recognize patterns in the dataset and cluster the flowers into three groups without any help. \n",
    "\n",
    "Clustering is an example of **unsupervised learning** where the data science model has to figure out the labels on its own. \n",
    "\n",
    "The first thing you will need for your app is a data file with Iris flower petal and sepal sizes. You can use this [CSV file](https://github.com/mdfarragher/DSC/blob/master/Clustering/IrisFlower/iris-data.csv). \n",
    "\n",
    "The file has already been downloaded and is available to your code as **iris-data.csv**. It looks like this:\n",
    "\n",
    "![Data file](./assets/data.png)\n",
    "\n",
    "It’s a CSV file with 5 columns:\n",
    "\n",
    "* The length of the Sepal in centimeters\n",
    "* The width of the Sepal in centimeters\n",
    "* The length of the Petal in centimeters\n",
    "* The width of the Petal in centimeters\n",
    "* The type of Iris flower\n",
    "\n",
    "You are going to build a clustering data science model that reads the data and then guesses the label for each flower in the dataset.\n",
    "\n",
    "Of course the app won't know the real names of the flowers, so it's just going to number them: 1, 2, and 3.\n",
    "\n",
    "## Get started\n",
    "\n",
    "Let’s get started. You'll need to install the ML.NET package first:"
   ]
  },
  {
   "cell_type": "code",
   "execution_count": 1,
   "metadata": {},
   "outputs": [
    {
     "data": {
      "text/html": [
       "Installed package Microsoft.ML version 1.4.0"
      ]
     },
     "metadata": {},
     "output_type": "display_data"
    }
   ],
   "source": [
    "#r nuget:Microsoft.ML"
   ]
  },
  {
   "cell_type": "markdown",
   "metadata": {},
   "source": [
    "Now you are ready to add code:"
   ]
  },
  {
   "cell_type": "code",
   "execution_count": 2,
   "metadata": {},
   "outputs": [],
   "source": [
    "using Microsoft.ML;\n",
    "using Microsoft.ML.Data;\n",
    "using System;"
   ]
  },
  {
   "cell_type": "markdown",
   "metadata": {},
   "source": [
    "You will also need two classes: one to hold a flower and one to hold your model prediction:"
   ]
  },
  {
   "cell_type": "code",
   "execution_count": 3,
   "metadata": {},
   "outputs": [],
   "source": [
    "public class IrisData\n",
    "{\n",
    "    [LoadColumn(0)] public float SepalLength;\n",
    "    [LoadColumn(1)] public float SepalWidth;\n",
    "    [LoadColumn(2)] public float PetalLength;\n",
    "    [LoadColumn(3)] public float PetalWidth;\n",
    "    [LoadColumn(4)] public string Label;\n",
    "}\n",
    "\n",
    "public class IrisPrediction\n",
    "{\n",
    "    [ColumnName(\"PredictedLabel\")]\n",
    "    public uint ClusterID;\n",
    "\n",
    "    [ColumnName(\"Score\")]\n",
    "    public float[] Score;\n",
    "}"
   ]
  },
  {
   "cell_type": "markdown",
   "metadata": {},
   "source": [
    "The **IrisData** class holds one single flower. Note how the fields are tagged with the **LoadColumn** attribute that tells ML.NET how to load the data from the data file.\n",
    "\n",
    "We are loading the label in the 5th column, but we won't be using the label during training because we want the model to figure out the iris flower types on its own.\n",
    "\n",
    "There's also an **IrisPrediction** class which will hold a prediction for a single flower. The prediction consists of the ID of the cluster that the flower belongs to. Clusters are numbered from 1 upwards. And notice how the score field is an array? Each individual score value represents the distance of the flower to one specific cluster.  \n",
    "\n",
    "## Loading the data\n",
    "\n",
    "Next you'll need to load the data in memory:"
   ]
  },
  {
   "cell_type": "code",
   "execution_count": 7,
   "metadata": {},
   "outputs": [
    {
     "name": "stdout",
     "output_type": "stream",
     "text": [
      "Loading data...done\n"
     ]
    }
   ],
   "source": [
    "var mlContext = new MLContext();\n",
    "\n",
    "// read the iris flower data from a text file\n",
    "Console.Write(\"Loading data...\");\n",
    "var data = mlContext.Data.LoadFromTextFile<IrisData>(\n",
    "    path: \"iris-data.csv\", \n",
    "    hasHeader: false, \n",
    "    separatorChar: ',');\n",
    "\n",
    "// split the data into a training and testing partition\n",
    "var partitions = mlContext.Data.TrainTestSplit(data, testFraction: 0.2);\n",
    "Console.WriteLine(\"done\");"
   ]
  },
  {
   "cell_type": "markdown",
   "metadata": {},
   "source": [
    "This code uses the **LoadFromTextFile** method to load the CSV data directly into memory, and then calls **TrainTestSplit** to split the dataset into an 80% training partition and a 20% test partition.\n",
    "\n",
    "Let's see if that worked. We're going to deserialize the training data into an enumeration of **IrisData** instances and do a quick visual check of the data:"
   ]
  },
  {
   "cell_type": "code",
   "execution_count": 8,
   "metadata": {},
   "outputs": [
    {
     "data": {
      "text/html": [
       "<table><thead><tr><th><i>index</i></th><th>SepalLength</th><th>SepalWidth</th><th>PetalLength</th><th>PetalWidth</th><th>Label</th></tr></thead><tbody><tr><td>0</td><td>5.1</td><td>3.5</td><td>1.4</td><td>0.2</td><td>Iris-setosa</td></tr><tr><td>1</td><td>4.9</td><td>3</td><td>1.4</td><td>0.2</td><td>Iris-setosa</td></tr><tr><td>2</td><td>4.7</td><td>3.2</td><td>1.3</td><td>0.2</td><td>Iris-setosa</td></tr><tr><td>3</td><td>4.6</td><td>3.1</td><td>1.5</td><td>0.2</td><td>Iris-setosa</td></tr><tr><td>4</td><td>5</td><td>3.6</td><td>1.4</td><td>0.2</td><td>Iris-setosa</td></tr><tr><td>5</td><td>5</td><td>3.4</td><td>1.5</td><td>0.2</td><td>Iris-setosa</td></tr><tr><td>6</td><td>4.4</td><td>2.9</td><td>1.4</td><td>0.2</td><td>Iris-setosa</td></tr><tr><td>7</td><td>4.9</td><td>3.1</td><td>1.5</td><td>0.1</td><td>Iris-setosa</td></tr><tr><td>8</td><td>5.4</td><td>3.7</td><td>1.5</td><td>0.2</td><td>Iris-setosa</td></tr><tr><td>9</td><td>4.8</td><td>3.4</td><td>1.6</td><td>0.2</td><td>Iris-setosa</td></tr></tbody></table>"
      ]
     },
     "metadata": {},
     "output_type": "display_data"
    }
   ],
   "source": [
    "// get an array of heartdata instances\n",
    "var data = mlContext.Data.CreateEnumerable<IrisData>(partitions.TrainSet, reuseRowObject: false).ToArray();\n",
    "\n",
    "// display the result\n",
    "display(data.Take(10));"
   ]
  },
  {
   "cell_type": "markdown",
   "metadata": {},
   "source": [
    "That looks great. For every flower we have the width and length of the petals and sepals.\n",
    "\n",
    "## Training the model\n",
    "\n",
    "Now let’s build the data science pipeline:"
   ]
  },
  {
   "cell_type": "code",
   "execution_count": 9,
   "metadata": {},
   "outputs": [
    {
     "name": "stdout",
     "output_type": "stream",
     "text": [
      "Training model....done\n"
     ]
    }
   ],
   "source": [
    "// set up a learning pipeline\n",
    "// step 1: concatenate features into a single column\n",
    "var pipeline = mlContext.Transforms.Concatenate(\n",
    "        \"Features\", \n",
    "        \"SepalLength\", \n",
    "        \"SepalWidth\", \n",
    "        \"PetalLength\", \n",
    "        \"PetalWidth\")\n",
    "\n",
    "    // step 2: use k-means clustering to find the iris types\n",
    "    .Append(mlContext.Clustering.Trainers.KMeans(\n",
    "        featureColumnName: \"Features\",\n",
    "        numberOfClusters: 3));\n",
    "\n",
    "// train the model on the data file\n",
    "Console.Write(\"Training model....\");\n",
    "var model = pipeline.Fit(partitions.TrainSet);\n",
    "Console.WriteLine(\"done\");"
   ]
  },
  {
   "cell_type": "markdown",
   "metadata": {},
   "source": [
    "Machine learning models in ML.NET are built with pipelines, which are sequences of data-loading, transformation, and learning components.\n",
    "\n",
    "This pipeline has two components:\n",
    "\n",
    "* **Concatenate** which converts the PixelValue vector into a single column called Features. This is a required step because ML.NET can only train on a single input column.\n",
    "* A **KMeans** component which performs K-Means Clustering on the data and tries to find all Iris flower types. \n",
    "\n",
    "With the pipeline fully assembled, the code trains the model with a call to **Fit**.\n",
    "\n",
    "## Evaluating the model\n",
    "\n",
    "You now have a fully- trained model. So now it's time to take the test set, predict the type of each flower, and calculate the accuracy metrics of the model:"
   ]
  },
  {
   "cell_type": "code",
   "execution_count": 11,
   "metadata": {},
   "outputs": [
    {
     "name": "stdout",
     "output_type": "stream",
     "text": [
      "Evaluating model:\n",
      "   Average distance:     0.5095654442196801\n",
      "   Davies Bouldin index: 0.6106797026421757\n"
     ]
    }
   ],
   "source": [
    "// evaluate the model\n",
    "Console.WriteLine(\"Evaluating model:\");\n",
    "var predictions = model.Transform(partitions.TestSet);\n",
    "var metrics = mlContext.Clustering.Evaluate(\n",
    "    predictions, \n",
    "    scoreColumnName: \"Score\", \n",
    "    featureColumnName: \"Features\");\n",
    "Console.WriteLine($\"   Average distance:     {metrics.AverageDistance}\");\n",
    "Console.WriteLine($\"   Davies Bouldin index: {metrics.DaviesBouldinIndex}\");"
   ]
  },
  {
   "cell_type": "markdown",
   "metadata": {},
   "source": [
    "This code calls **Transform** to set up predictions for every flower in the test set, and **Evaluate** to evaluate the predictions and automatically calculates two metrics:\n",
    "\n",
    "* **AverageDistance**: this is the average distance of a flower to the center point of its cluster, averaged over all clusters in the dataset. It is a measure for the 'tightness' of the clusters. Lower values are better and mean more concentrated clusters. \n",
    "* **DaviesBouldinIndex**: this metric is the average 'similarity' of each cluster with its most similar cluster. Similarity is defined as the ratio of within-cluster distances to between-cluster distances. So in other words, clusters which are farther apart and more concentrated will result in a better score. Low values indicate better clustering.\n",
    "\n",
    "So Average Distance measures how concentrated the clusters are in the dataset, and the Davies Bouldin Index measures both concentration and how far apart the clusters are spaced. Both metrics are negative-based with zero being the perfect score.\n",
    "\n",
    "We're getting an average distance of 0.51. Since all input features are in centimeters, this distance is also in units of centimeters. So what this means is that when we create a 4-dimensional solution space out of the 4 input features, on average every flower is 0.51 centimeters away from its cluster centroid.\n",
    "\n",
    "So is that good or bad?\n",
    "\n",
    "It's impossible to say actually. We would have to know the total extent of the solution space and see how far the cluster centroids are spaced apart.\n",
    "\n",
    "A much better metric is the Davies Bouldin Index that measures the ratio of average distances inside each cluster and average distances between clusters. That gives us a range of 0...N, with 0 meaning super-concentrated clusters spaced far apart, and increasing values meaning  more and more sparse clusters that start to overlap.\n",
    "\n",
    "We get a Davies Bouldin Index value of 0.61, which means the clusters are reasonably spread out and non-overlapping, and that the quality of this clustering model is fair.\n",
    "\n",
    "## Making a prediction\n",
    "\n",
    "To wrap up, let’s use the model to make predictions.\n",
    "\n",
    "You will pick three arbitrary flowers from the test set, run them through the model, and compare the predictions with the labels provided in the data file.\n",
    "\n",
    "Here’s how to do it:"
   ]
  },
  {
   "cell_type": "code",
   "execution_count": 12,
   "metadata": {},
   "outputs": [
    {
     "name": "stdout",
     "output_type": "stream",
     "text": [
      "Predicting 3 flowers from the test set....\n",
      "   Flower: Iris-setosa, prediction: 2\n",
      "   Flower: Iris-versicolor, prediction: 3\n",
      "   Flower: Iris-virginica, prediction: 1\n"
     ]
    }
   ],
   "source": [
    "// show predictions for a couple of flowers\n",
    "Console.WriteLine(\"Predicting 3 flowers from the test set....\");\n",
    "var flowers = mlContext.Data.CreateEnumerable<IrisData>(partitions.TestSet, reuseRowObject: false).ToArray();\n",
    "var flowerPredictions = mlContext.Data.CreateEnumerable<IrisPrediction>(predictions, reuseRowObject: false).ToArray();\n",
    "foreach (var i in new int[] { 0, 10, 20 })\n",
    "{\n",
    "    Console.WriteLine($\"   Flower: {flowers[i].Label}, prediction: {flowerPredictions[i].ClusterID}\");\n",
    "}"
   ]
  },
  {
   "cell_type": "markdown",
   "metadata": {},
   "source": [
    "This code calls the **CreateEnumerable** method to convert the test partition into an array of **IrisData** instances, and the model predictions into an array of **IrisPrediction** instances. \n",
    "\n",
    "Then the code picks three flowers for testing. For each flower it writes the label and the cluster ID (= a number between 1 and 3) to the console. \n",
    "\n",
    "The first flower is an Iris-Setosa and is assigned the label '2' by the model. The second flower is an Iris-Versicolor and gets the label '2', and the third flower is an Iris-Virginica and gets the label '1'. The model can tell all three flowers apart.\n",
    "\n",
    "This is a great result because the Iris dataset is notoriously difficult to cluster.\n",
    "\n",
    " ## Further improvements\n",
    " \n",
    " How do you think this model can be improved even more?"
   ]
  }
 ],
 "metadata": {
  "kernelspec": {
   "display_name": ".NET (C#)",
   "language": "C#",
   "name": ".net-csharp"
  },
  "language_info": {
   "file_extension": ".cs",
   "mimetype": "text/x-csharp",
   "name": "C#",
   "pygments_lexer": "csharp",
   "version": "8.0"
  }
 },
 "nbformat": 4,
 "nbformat_minor": 4
}
