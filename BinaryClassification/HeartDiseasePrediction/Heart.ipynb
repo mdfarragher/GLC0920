{
 "cells": [
  {
   "cell_type": "markdown",
   "metadata": {},
   "source": [
    "# Assignment: Predict heart disease risk\n",
    "\n",
    "In this assignment you're going to build an app that can predict the heart disease risk in a group of patients.\n",
    "\n",
    "The first thing you will need for your app is a data file with patients, their medical info, and their heart disease risk assessment. We're going to use the famous [UCI Heart Disease Dataset](https://archive.ics.uci.edu/ml/datasets/heart+Disease) which has real-life data from 303 patients.\n",
    "\n",
    "The datafile has already been downloaded and is available to your code as: **processed.cleveland.data.csv**.\n",
    "\n",
    "The data file looks like this:\n",
    "\n",
    "![Processed Cleveland Data](./assets/data.png)\n",
    "\n",
    "It’s a CSV file with 14 columns of information:\n",
    "\n",
    "* Age\n",
    "* Sex: 1 = male, 0 = female\n",
    "* Chest Pain Type: 1 = typical angina, 2 = atypical angina , 3 = non-anginal pain, 4 = asymptomatic\n",
    "* Resting blood pressure in mm Hg on admission to the hospital\n",
    "* Serum cholesterol in mg/dl\n",
    "* Fasting blood sugar > 120 mg/dl: 1 = true; 0 = false\n",
    "* Resting EKG results: 0 = normal, 1 = having ST-T wave abnormality, 2 = showing probable or definite left ventricular hypertrophy by Estes’ criteria\n",
    "* Maximum heart rate achieved\n",
    "* Exercise induced angina: 1 = yes; 0 = no\n",
    "* ST depression induced by exercise relative to rest\n",
    "* Slope of the peak exercise ST segment: 1 = up-sloping, 2 = flat, 3 = down-sloping\n",
    "* Number of major vessels (0–3) colored by fluoroscopy\n",
    "* Thallium heart scan results: 3 = normal, 6 = fixed defect, 7 = reversible defect\n",
    "* Diagnosis of heart disease: 0 = normal risk, 1-4 = elevated risk\n",
    "\n",
    "The first 13 columns are patient diagnostic information, and the last column is the diagnosis: 0 means a healthy patient, and values 1-4 mean an elevated risk of heart disease.\n",
    "\n",
    "You are going to build a binary classification machine learning model that reads in all 13 columns of patient information, and then makes a prediction for the heart disease risk.\n",
    "\n",
    "## Get started\n",
    "\n",
    "Let’s get started. You're first going to install a couple of NuGet packages:\n"
   ]
  },
  {
   "cell_type": "code",
   "execution_count": 2,
   "metadata": {},
   "outputs": [
    {
     "data": {
      "text/html": [
       "Installed package Microsoft.ML version 1.4.0"
      ]
     },
     "metadata": {},
     "output_type": "display_data"
    },
    {
     "data": {
      "text/html": [
       "Installed package Microsoft.ML.FastTree version 1.4.0"
      ]
     },
     "metadata": {},
     "output_type": "display_data"
    }
   ],
   "source": [
    "#r nuget:Microsoft.ML\n",
    "#r nuget:Microsoft.ML.FastTree"
   ]
  },
  {
   "cell_type": "markdown",
   "metadata": {},
   "source": [
    "You just installed the NuGet package for ML.NET and a support package for fast decision trees. We're now ready to start coding. \n",
    "\n",
    "Please run the following code snippet:"
   ]
  },
  {
   "cell_type": "code",
   "execution_count": 19,
   "metadata": {},
   "outputs": [],
   "source": [
    "using System;\n",
    "using System.IO;\n",
    "using Microsoft.ML;\n",
    "using Microsoft.ML.Data;\n",
    "using XPlot.Plotly;"
   ]
  },
  {
   "cell_type": "markdown",
   "metadata": {},
   "source": [
    "Now we're going to set up two classes: one for holding a single heart patient record, and one to hold a single model prediction:"
   ]
  },
  {
   "cell_type": "code",
   "execution_count": 13,
   "metadata": {},
   "outputs": [],
   "source": [
    "public class HeartData \n",
    "{\n",
    "    [LoadColumn(0)] public float Age { get; set; }\n",
    "    [LoadColumn(1)] public float Sex { get; set; }\n",
    "    [LoadColumn(2)] public float Cp { get; set; }\n",
    "    [LoadColumn(3)] public float TrestBps { get; set; }\n",
    "    [LoadColumn(4)] public float Chol { get; set; }\n",
    "    [LoadColumn(5)] public float Fbs { get; set; }\n",
    "    [LoadColumn(6)] public float RestEcg { get; set; }\n",
    "    [LoadColumn(7)] public float Thalac { get; set; }\n",
    "    [LoadColumn(8)] public float Exang { get; set; }\n",
    "    [LoadColumn(9)] public float OldPeak { get; set; }\n",
    "    [LoadColumn(10)] public float Slope { get; set; }\n",
    "    [LoadColumn(11)] public float Ca { get; set; }\n",
    "    [LoadColumn(12)] public float Thal { get; set; }\n",
    "    [LoadColumn(13)] public int RawLabel { get; set; }\n",
    "}\n",
    "\n",
    "public class HeartPrediction\n",
    "{\n",
    "    [ColumnName(\"PredictedLabel\")] public bool Prediction;\n",
    "    public float Probability;\n",
    "    public float Score;\n",
    "}"
   ]
  },
  {
   "cell_type": "markdown",
   "metadata": {},
   "source": [
    "The **HeartData** class holds one single patient record. Note how each field is tagged with a **LoadColumn** attribute that tells the CSV data loading code which column to import data from.\n",
    "\n",
    "There's also a **HeartPrediction** class which will hold a single heart disease prediction. There's a boolean **Prediction**, a **Probability** value, and the **Score** the model will assign to the prediction.\n",
    "\n",
    "Now look at the final column in the data file. Our label is an integer value between 0-4, with 0 meaning 'no risk' and 1-4 meaning 'elevated risk'. \n",
    "\n",
    "But you're building a Binary Classifier which means your model needs to be trained on boolean labels.\n",
    "\n",
    "So you'll have to somehow convert the 'raw' numeric label (stored in the **RawLabel** field) to a boolean value. \n",
    "\n",
    "To set that up, you'll need two helper classes:"
   ]
  },
  {
   "cell_type": "code",
   "execution_count": 11,
   "metadata": {},
   "outputs": [],
   "source": [
    "public class FromLabel\n",
    "{\n",
    "    public int RawLabel;\n",
    "}\n",
    "\n",
    "public class ToLabel\n",
    "{\n",
    "    public bool Label;\n",
    "}"
   ]
  },
  {
   "cell_type": "markdown",
   "metadata": {},
   "source": [
    "Note the **FromLabel** class that contains the 'raw' unprocessed numeric label value, and the **ToLabel** class that contains the final boolean label value. \n",
    "\n",
    "## Loading the data\n",
    "\n",
    "Now you're going to load the training data in memory:"
   ]
  },
  {
   "cell_type": "code",
   "execution_count": 7,
   "metadata": {},
   "outputs": [
    {
     "name": "stdout",
     "output_type": "stream",
     "text": [
      "Loading data...done\n"
     ]
    }
   ],
   "source": [
    "// filenames for training and test data\n",
    "private static string dataPath = Path.Combine(Environment.CurrentDirectory, \"processed.cleveland.data.csv\");\n",
    "\n",
    "// set up a machine learning context\n",
    "var context = new MLContext();\n",
    "\n",
    "// load data\n",
    "Console.Write(\"Loading data...\");\n",
    "var data = context.Data.LoadFromTextFile<HeartData>(dataPath, hasHeader: false, separatorChar: ',');\n",
    "\n",
    "// split the data into a training and test partition\n",
    "var partitions = context.Data.TrainTestSplit(data, testFraction: 0.2);\n",
    "Console.WriteLine(\"done\");"
   ]
  },
  {
   "cell_type": "markdown",
   "metadata": {},
   "source": [
    "This code uses the method **LoadFromTextFile** to load the CSV data directly into memory. The class field annotations tell the method how to store the loaded data in the **HeartData** class.\n",
    "\n",
    "The **TrainTestSplit** method then splits the data into a training partition with 80% of the data and a test partition with 20% of the data.\n",
    "\n",
    "Let's take a look at the data. We're going to deserialize the training data into an enumeration of **HeartData** instances and do a quick visual check of the data:"
   ]
  },
  {
   "cell_type": "code",
   "execution_count": 9,
   "metadata": {},
   "outputs": [
    {
     "data": {
      "text/html": [
       "<table><thead><tr><th><i>index</i></th><th>Age</th><th>Sex</th><th>Cp</th><th>TrestBps</th><th>Chol</th><th>Fbs</th><th>RestEcg</th><th>Thalac</th><th>Exang</th><th>OldPeak</th><th>Slope</th><th>Ca</th><th>Thal</th><th>RawLabel</th></tr></thead><tbody><tr><td>0</td><td>63</td><td>1</td><td>1</td><td>145</td><td>233</td><td>1</td><td>2</td><td>150</td><td>0</td><td>2.3</td><td>3</td><td>0</td><td>6</td><td>0</td></tr><tr><td>1</td><td>67</td><td>1</td><td>4</td><td>160</td><td>286</td><td>0</td><td>2</td><td>108</td><td>1</td><td>1.5</td><td>2</td><td>3</td><td>3</td><td>2</td></tr><tr><td>2</td><td>67</td><td>1</td><td>4</td><td>120</td><td>229</td><td>0</td><td>2</td><td>129</td><td>1</td><td>2.6</td><td>2</td><td>2</td><td>7</td><td>1</td></tr><tr><td>3</td><td>37</td><td>1</td><td>3</td><td>130</td><td>250</td><td>0</td><td>0</td><td>187</td><td>0</td><td>3.5</td><td>3</td><td>0</td><td>3</td><td>0</td></tr><tr><td>4</td><td>41</td><td>0</td><td>2</td><td>130</td><td>204</td><td>0</td><td>2</td><td>172</td><td>0</td><td>1.4</td><td>1</td><td>0</td><td>3</td><td>0</td></tr><tr><td>5</td><td>57</td><td>0</td><td>4</td><td>120</td><td>354</td><td>0</td><td>0</td><td>163</td><td>1</td><td>0.6</td><td>1</td><td>0</td><td>3</td><td>0</td></tr><tr><td>6</td><td>63</td><td>1</td><td>4</td><td>130</td><td>254</td><td>0</td><td>2</td><td>147</td><td>0</td><td>1.4</td><td>2</td><td>1</td><td>7</td><td>2</td></tr><tr><td>7</td><td>53</td><td>1</td><td>4</td><td>140</td><td>203</td><td>1</td><td>2</td><td>155</td><td>1</td><td>3.1</td><td>3</td><td>0</td><td>7</td><td>1</td></tr><tr><td>8</td><td>57</td><td>1</td><td>4</td><td>140</td><td>192</td><td>0</td><td>0</td><td>148</td><td>0</td><td>0.4</td><td>2</td><td>0</td><td>6</td><td>0</td></tr><tr><td>9</td><td>56</td><td>0</td><td>2</td><td>140</td><td>294</td><td>0</td><td>2</td><td>153</td><td>0</td><td>1.3</td><td>2</td><td>0</td><td>3</td><td>0</td></tr></tbody></table>"
      ]
     },
     "metadata": {},
     "output_type": "display_data"
    }
   ],
   "source": [
    "// get an array of heartdata instances\n",
    "var data = context.Data.CreateEnumerable<HeartData>(partitions.TrainSet, reuseRowObject: false).ToArray();\n",
    "\n",
    "// display the result\n",
    "display(data.Take(10));"
   ]
  },
  {
   "cell_type": "markdown",
   "metadata": {},
   "source": [
    "That looks pretty good. All the columns contain numeric data and everything seems to have loaded ok. Note the **RawLabel** column all the way at the end that indicates if the patient has an elevated heart disease risk or not. A value of 0 means no risk, and anything else means an elevated risk.\n",
    "\n",
    "## Training the model\n",
    "\n",
    "Now you’re ready to start building the machine learning model:"
   ]
  },
  {
   "cell_type": "code",
   "execution_count": 14,
   "metadata": {},
   "outputs": [
    {
     "name": "stdout",
     "output_type": "stream",
     "text": [
      "Training model...done\n"
     ]
    }
   ],
   "source": [
    "// set up a training pipeline\n",
    "// step 1: convert the label value to a boolean\n",
    "var pipeline = context.Transforms.CustomMapping<FromLabel, ToLabel>(\n",
    "        (input, output) => { output.Label = input.RawLabel > 0; },\n",
    "        \"LabelMapping\"\n",
    "    )\n",
    "\n",
    "    // step 2: concatenate all feature columns\n",
    "    .Append(context.Transforms.Concatenate(\n",
    "    \"Features\", \n",
    "    \"Age\", \n",
    "    \"Sex\", \n",
    "    \"Cp\", \n",
    "    \"TrestBps\",\n",
    "    \"Chol\", \n",
    "    \"Fbs\", \n",
    "    \"RestEcg\", \n",
    "    \"Thalac\", \n",
    "    \"Exang\", \n",
    "    \"OldPeak\", \n",
    "    \"Slope\", \n",
    "    \"Ca\", \n",
    "    \"Thal\"))\n",
    "\n",
    "    // step 3: set up a fast tree learner\n",
    "    .Append(context.BinaryClassification.Trainers.FastTree(\n",
    "        labelColumnName: \"Label\", \n",
    "        featureColumnName: \"Features\"));\n",
    "\n",
    "// train the model\n",
    "Console.Write(\"Training model...\");\n",
    "var model = pipeline.Fit(partitions.TrainSet);\n",
    "Console.WriteLine(\"done\");"
   ]
  },
  {
   "cell_type": "markdown",
   "metadata": {},
   "source": [
    "Machine learning models in ML.NET are built with pipelines, which are sequences of data-loading, transformation, and learning components.\n",
    "\n",
    "This pipeline has the following components:\n",
    "\n",
    "* A **CustomMapping** that transforms the numeric label to a boolean value. We define 0 values as healthy, and anything above 0 as an elevated risk.\n",
    "* **Concatenate** which combines all input data columns into a single column called 'Features'. This is a required step because ML.NET can only train on a single input column.\n",
    "* A **FastTree** classification learner which will train the model to make accurate predictions.\n",
    "\n",
    "The **FastTreeBinaryClassificationTrainer** is a very nice training algorithm that uses gradient boosting, a machine learning technique for classification problems.\n",
    "\n",
    "With the pipeline fully assembled, you can train the model with a call to **Fit**.\n",
    "\n",
    "## Evaluating the model\n",
    "\n",
    "You now have a fully- trained model. So now it's time to take the test partition, predict the diagnosis for each patient, and calculate the accuracy metrics of the model:\n"
   ]
  },
  {
   "cell_type": "code",
   "execution_count": 15,
   "metadata": {},
   "outputs": [
    {
     "name": "stdout",
     "output_type": "stream",
     "text": [
      "Evaluating model...\n",
      "  Accuracy:          0.8\n",
      "  Auc:               0.8224\n",
      "  Auprc:             0.8015017642884277\n",
      "  F1Score:           0.782608695652174\n",
      "  LogLoss:           2.06022586379406\n",
      "  LogLossReduction:  -1.0602258637940598\n",
      "  PositivePrecision: 0.8571428571428571\n",
      "  PositiveRecall:    0.72\n",
      "  NegativePrecision: 0.7586206896551724\n",
      "  NegativeRecall:    0.88\n",
      "\n"
     ]
    }
   ],
   "source": [
    "// make predictions for the test data set\n",
    "Console.WriteLine(\"Evaluating model...\");\n",
    "var predictions = model.Transform(partitions.TestSet);\n",
    "\n",
    "// compare the predictions with the ground truth\n",
    "var metrics = context.BinaryClassification.Evaluate(\n",
    "    data: predictions, \n",
    "    labelColumnName: \"Label\", \n",
    "    scoreColumnName: \"Score\");\n",
    "\n",
    "// report the results\n",
    "Console.WriteLine($\"  Accuracy:          {metrics.Accuracy}\");\n",
    "Console.WriteLine($\"  Auc:               {metrics.AreaUnderRocCurve}\");\n",
    "Console.WriteLine($\"  Auprc:             {metrics.AreaUnderPrecisionRecallCurve}\");\n",
    "Console.WriteLine($\"  F1Score:           {metrics.F1Score}\");\n",
    "Console.WriteLine($\"  LogLoss:           {metrics.LogLoss}\");\n",
    "Console.WriteLine($\"  LogLossReduction:  {metrics.LogLossReduction}\");\n",
    "Console.WriteLine($\"  PositivePrecision: {metrics.PositivePrecision}\");\n",
    "Console.WriteLine($\"  PositiveRecall:    {metrics.PositiveRecall}\");\n",
    "Console.WriteLine($\"  NegativePrecision: {metrics.NegativePrecision}\");\n",
    "Console.WriteLine($\"  NegativeRecall:    {metrics.NegativeRecall}\");\n",
    "Console.WriteLine();"
   ]
  },
  {
   "cell_type": "markdown",
   "metadata": {},
   "source": [
    "This code calls **Transform** to set up a diagnosis for every patient in the set, and **Evaluate** to compare these predictions to the ground truth and automatically calculate all evaluation metrics:\n",
    "\n",
    "* **Accuracy**: this is the number of correct predictions divided by the total number of predictions.\n",
    "* **AreaUnderRocCurve**: a metric that indicates how accurate the model is: 0 = the model is wrong all the time, 0.5 = the model produces random output, 1 = the model is correct all the time. An AUC of 0.8 or higher is considered good.\n",
    "* **AreaUnderPrecisionRecallCurve**: an alternate AUC metric that performs better for heavily imbalanced datasets with many more negative results than positive.\n",
    "* **F1Score**: this is a metric that strikes a balance between Precision and Recall. It’s useful for imbalanced datasets with many more negative results than positive.\n",
    "* **LogLoss**: this is a metric that expresses the size of the error in the predictions the model is making. A logloss of zero means every prediction is correct, and the loss value rises as the model makes more and more mistakes.\n",
    "* **LogLossReduction**: this metric is also called the Reduction in Information Gain (RIG). It expresses the probability that the model’s predictions are better than random chance.\n",
    "* **PositivePrecision**: also called ‘Precision’, this is the fraction of positive predictions that are correct. This is a good metric to use when the cost of a false positive prediction is high.\n",
    "* **PositiveRecall**: also called ‘Recall’, this is the fraction of positive predictions out of all positive cases. This is a good metric to use when the cost of a false negative is high.\n",
    "* **NegativePrecision**: this is the fraction of negative predictions that are correct.\n",
    "* **NegativeRecall**: this is the fraction of negative predictions out of all negative cases.\n",
    "\n",
    "The results nicely illustrate how to evaluate a binary classifier. We get an accuracy of 0.8, which means that the model is correct 80% of the time.\n",
    "\n",
    "The (positive) precision is 0.86 which means that 86% of all elevated risk predictions made by the model are correct. In the remaining 14% of cases, the model predicted elevated risk in patients that were actually healthy.\n",
    "\n",
    "The (positive) recall is 0.72 which means that out of all positive cases, the model only predicted 72% correct. The remaining 28% are high-risk heart patients who were told that everything is fine and they can go home.\n",
    "\n",
    "That’s obviously very bad, and it clearly shows how important the recall metric is in cases where we want to avoid false negatives at all costs.\n",
    "\n",
    "Finally, we're getting an AUC of 0,82 which is a good start. It means this model has good predictive ability.\n",
    "\n",
    "Let's do a quick plot of the confusion matrix so we can visually compare the true positives and negatives to the false positives and negatives:"
   ]
  },
  {
   "cell_type": "code",
   "execution_count": 73,
   "metadata": {},
   "outputs": [
    {
     "data": {
      "text/html": [
       "<div id=\"211e12d3-9f5f-4335-9b53-ff0efb11fae7\" style=\"width: 600px; height: 600px;\"></div>\r\n",
       "<script type=\"text/javascript\">\n",
       "\r\n",
       "var renderPlotly = function() {\r\n",
       "    var xplotRequire = requirejs.config({context:'xplot-3.0.1',paths:{plotly:'https://cdn.plot.ly/plotly-1.49.2.min'}});\r\n",
       "    xplotRequire(['plotly'], function(Plotly) {\n",
       "\n",
       "            var data = [{\"type\":\"scattergl\",\"x\":[0,1,0,1],\"y\":[0,0,1,1],\"mode\":\"markers\",\"marker\":{\"symbol\":\"square\",\"size\":164,\"color\":[-16.0,-1.0,-5.0,-20.0],\"colorscale\":\"Greys\"}}];\n",
       "            var layout = {\"title\":\"Confusion matrix\",\"xaxis\":{\"title\":\"Predicted value\",\"_isSubplotObj\":true},\"yaxis\":{\"title\":\"Actual value\",\"_isSubplotObj\":true}};\n",
       "            Plotly.newPlot('211e12d3-9f5f-4335-9b53-ff0efb11fae7', data, layout);\n",
       "        \n",
       "});\r\n",
       "};\r\n",
       "if ((typeof(requirejs) !==  typeof(Function)) || (typeof(requirejs.config) !== typeof(Function))) { \r\n",
       "    var script = document.createElement(\"script\"); \r\n",
       "    script.setAttribute(\"src\", \"https://cdnjs.cloudflare.com/ajax/libs/require.js/2.3.6/require.min.js\"); \r\n",
       "    script.onload = function(){\r\n",
       "        renderPlotly();\r\n",
       "    };\r\n",
       "    document.getElementsByTagName(\"head\")[0].appendChild(script); \r\n",
       "}\r\n",
       "else {\r\n",
       "    renderPlotly();\r\n",
       "}\n",
       "</script>\n"
      ]
     },
     "metadata": {},
     "output_type": "display_data"
    }
   ],
   "source": [
    "// plot the confusion matrix\n",
    "var n = metrics.ConfusionMatrix.NumberOfClasses;\n",
    "var chart = Chart.Plot(\n",
    "    new Graph.Scattergl()\n",
    "    {\n",
    "        x = (from i in Enumerable.Range(0,n) from j in Enumerable.Range(0,n) select j),\n",
    "        y = (from i in Enumerable.Range(0,n) from j in Enumerable.Range(0,n) select i),\n",
    "        mode = \"markers\",\n",
    "        marker = new Graph.Marker()\n",
    "        {\n",
    "            symbol = \"square\",\n",
    "            size = 164,\n",
    "            color = from i in Enumerable.Range(0,n) from j in Enumerable.Range(0,n) select n-metrics.ConfusionMatrix.Counts[j][i],\n",
    "            colorscale = \"Greys\"\n",
    "        }\n",
    "    }\n",
    ");\n",
    "chart.WithXTitle(\"Predicted value\");\n",
    "chart.WithYTitle(\"Actual value\");\n",
    "chart.WithTitle(\"Confusion matrix\");\n",
    "chart.Width = 600;\n",
    "chart.Height = 600;\n",
    "display(chart);"
   ]
  },
  {
   "cell_type": "markdown",
   "metadata": {},
   "source": [
    "That looks pretty good. We have lots of true positives and true negatives as shown by the black squares along the main diagonal. We would like every other cell to be white, but unfortunately there's a gray cell in the top left. This indicates a high number of false negatives. \n",
    "\n",
    "## Making a prediction\n",
    "\n",
    "To wrap up, You’re going to create a new patient record and ask the model to make a prediction:"
   ]
  },
  {
   "cell_type": "code",
   "execution_count": 70,
   "metadata": {},
   "outputs": [
    {
     "name": "stdout",
     "output_type": "stream",
     "text": [
      "Making a prediction for a sample patient...\n",
      "  Age: 36 \n",
      "  Sex: 1 \n",
      "  Cp: 4 \n",
      "  TrestBps: 145 \n",
      "  Chol: 210 \n",
      "  Fbs: 0 \n",
      "  RestEcg: 2 \n",
      "  Thalac: 148 \n",
      "  Exang: 1 \n",
      "  OldPeak: 1.9 \n",
      "  Slope: 2 \n",
      "  Ca: 1 \n",
      "  Thal: 7 \n",
      "\n",
      "Prediction: Elevated heart disease risk \n",
      "Probability: 100.00% \n"
     ]
    }
   ],
   "source": [
    "// set up a prediction engine\n",
    "Console.WriteLine(\"Making a prediction for a sample patient...\");\n",
    "var predictionEngine = context.Model.CreatePredictionEngine<HeartData, HeartPrediction>(model);\n",
    "\n",
    "// create a sample patient\n",
    "var heartData = new HeartData()\n",
    "{ \n",
    "    Age = 36.0f,\n",
    "    Sex = 1.0f,\n",
    "    Cp = 4.0f,\n",
    "    TrestBps = 145.0f,\n",
    "    Chol = 210.0f,\n",
    "    Fbs = 0.0f,\n",
    "    RestEcg = 2.0f,\n",
    "    Thalac = 148.0f,\n",
    "    Exang = 1.0f,\n",
    "    OldPeak = 1.9f,\n",
    "    Slope = 2.0f,\n",
    "    Ca = 1.0f,\n",
    "    Thal = 7.0f,\n",
    "};\n",
    "\n",
    "// make the prediction\n",
    "var prediction = predictionEngine.Predict(heartData);\n",
    "\n",
    "// report the results\n",
    "Console.WriteLine($\"  Age: {heartData.Age} \");\n",
    "Console.WriteLine($\"  Sex: {heartData.Sex} \");\n",
    "Console.WriteLine($\"  Cp: {heartData.Cp} \");\n",
    "Console.WriteLine($\"  TrestBps: {heartData.TrestBps} \");\n",
    "Console.WriteLine($\"  Chol: {heartData.Chol} \");\n",
    "Console.WriteLine($\"  Fbs: {heartData.Fbs} \");\n",
    "Console.WriteLine($\"  RestEcg: {heartData.RestEcg} \");\n",
    "Console.WriteLine($\"  Thalac: {heartData.Thalac} \");\n",
    "Console.WriteLine($\"  Exang: {heartData.Exang} \");\n",
    "Console.WriteLine($\"  OldPeak: {heartData.OldPeak} \");\n",
    "Console.WriteLine($\"  Slope: {heartData.Slope} \");\n",
    "Console.WriteLine($\"  Ca: {heartData.Ca} \");\n",
    "Console.WriteLine($\"  Thal: {heartData.Thal} \");\n",
    "Console.WriteLine();\n",
    "Console.WriteLine($\"Prediction: {(prediction.Prediction ? \"Elevated heart disease risk\" : \"Normal heart disease risk\" )} \");\n",
    "Console.WriteLine($\"Probability: {prediction.Probability:P2} \");"
   ]
  },
  {
   "cell_type": "markdown",
   "metadata": {},
   "source": [
    "This code uses the **CreatePredictionEngine** method to set up a prediction engine. The two type arguments are the input data class and the class to hold the prediction. And once the prediction engine is set up, you can simply call **Predict** to make a single prediction.\n",
    "\n",
    "The code creates a patient record for a 36-year old male with asymptomatic chest pain and a bunch of other medical info. What’s the model going to predict?\n",
    "\n",
    "Well, a massive 100% probability for an elevated heart disease risk! This patient needs to be admitted righ away.  \n",
    "\n",
    "## Further improvements\n",
    "\n",
    "Can you think of ways to improve the accuracy of your predictions?"
   ]
  }
 ],
 "metadata": {
  "kernelspec": {
   "display_name": ".NET (C#)",
   "language": "C#",
   "name": ".net-csharp"
  },
  "language_info": {
   "file_extension": ".cs",
   "mimetype": "text/x-csharp",
   "name": "C#",
   "pygments_lexer": "csharp",
   "version": "8.0"
  }
 },
 "nbformat": 4,
 "nbformat_minor": 4
}
