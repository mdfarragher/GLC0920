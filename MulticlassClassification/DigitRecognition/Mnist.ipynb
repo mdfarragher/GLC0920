{
 "cells": [
  {
   "cell_type": "markdown",
   "metadata": {},
   "source": [
    "# Assignment: Recognize handwritten digits\n",
    "\n",
    "In this article, You are going to build an app that recognizes handwritten digits from the famous MNIST machine learning dataset:\n",
    "\n",
    "![MNIST digits](./assets/mnist.png)\n",
    "\n",
    "Your app must read these images of handwritten digits and correctly predict which digit is visible in each image.\n",
    "\n",
    "This may seem like an easy challenge, but look at this:\n",
    "\n",
    "![Difficult MNIST digits](./assets/mnist_hard.png)\n",
    "\n",
    "These are a couple of digits from the dataset. Are you able to identify each one? It probably won’t surprise you to hear that the human error rate on this exercise is around 2.5%.\n",
    "\n",
    "The first thing you will need for your app is a data file with images of handwritten digits. We will not use the original MNIST data because it's stored in a nonstandard binary format.\n",
    "\n",
    "Instead, we'll use these excellent [CSV files](https://www.kaggle.com/oddrationale/mnist-in-csv/) prepared by Daniel Dato on Kaggle.\n",
    "\n",
    "The training and testing files **mnist_train.csv** and **mnist_test.csv** have already been downloaded and are available to your code. There are 50,000 images in the training file and 10,000 in the test file. Each image is monochrome and resized to 28x28 pixels.\n",
    "\n",
    "The training file looks like this:\n",
    "\n",
    "![Data file](./assets/datafile.png)\n",
    "\n",
    "It’s a CSV file with 785 columns:\n",
    "\n",
    "* The first column contains the label. It tells us which one of the 10 possible digits is visible in the image.\n",
    "* The next 784 columns are the pixel intensity values (0..255) for each pixel in the image, counting from left to right and top to bottom.\n",
    "\n",
    "You are going to build a multiclass classification machine learning model that reads in all 785 columns, and then makes a prediction for each digit in the dataset.\n",
    "\n",
    "## Get started\n",
    "\n",
    "Let’s get started. You're going to install the following ML.NET packages:"
   ]
  },
  {
   "cell_type": "code",
   "execution_count": 6,
   "metadata": {},
   "outputs": [
    {
     "data": {
      "text/html": [
       "Installed package Microsoft.ML version 1.4.0"
      ]
     },
     "metadata": {},
     "output_type": "display_data"
    },
    {
     "data": {
      "text/html": [
       "Installed package BetterConsoleTables version 1.1.2"
      ]
     },
     "metadata": {},
     "output_type": "display_data"
    }
   ],
   "source": [
    "#r nuget:Microsoft.ML"
   ]
  },
  {
   "cell_type": "markdown",
   "metadata": {},
   "source": [
    "This will install the Microsoft ML.NET machine learning library. \n",
    "\n",
    "Now let's add some code:"
   ]
  },
  {
   "cell_type": "code",
   "execution_count": 13,
   "metadata": {},
   "outputs": [],
   "source": [
    "using System;\n",
    "using System.IO;\n",
    "using System.Linq;\n",
    "using Microsoft.ML;\n",
    "using Microsoft.ML.Data;\n",
    "using Microsoft.ML.Transforms;\n",
    "using XPlot.Plotly;"
   ]
  },
  {
   "cell_type": "markdown",
   "metadata": {},
   "source": [
    "You will also need two classes: one to hold a digit, and one to hold your model prediction:"
   ]
  },
  {
   "cell_type": "code",
   "execution_count": 8,
   "metadata": {},
   "outputs": [],
   "source": [
    "class Digit\n",
    "{\n",
    "    [ColumnName(\"PixelValues\")]\n",
    "    [VectorType(784)]\n",
    "    public float[] PixelValues;\n",
    "\n",
    "    [LoadColumn(0)]\n",
    "    public float Number;\n",
    "}\n",
    "\n",
    "class DigitPrediction\n",
    "{\n",
    "    [ColumnName(\"Score\")]\n",
    "    public float[] Score;\n",
    "}"
   ]
  },
  {
   "cell_type": "markdown",
   "metadata": {},
   "source": [
    "The **Digit** class holds one single MNIST digit image. Note how the field is tagged with a **VectorTyp**e attribute. This tells ML.NET to combine the 784 individual pixel columns into a single vector value.\n",
    "\n",
    "There's also a **DigitPrediction** class which will hold a single prediction. And notice how the prediction score is actually an array? The model will generate 10 scores, one for every possible digit value. \n",
    "\n",
    "## Loading the data\n",
    "\n",
    "Next you'll need to load the data in memory:"
   ]
  },
  {
   "cell_type": "code",
   "execution_count": 9,
   "metadata": {},
   "outputs": [
    {
     "name": "stdout",
     "output_type": "stream",
     "text": [
      "Loading data....done\n"
     ]
    }
   ],
   "source": [
    "// filenames for data set\n",
    "private static string trainDataPath = Path.Combine(Environment.CurrentDirectory, \"mnist_train.csv\");\n",
    "private static string testDataPath = Path.Combine(Environment.CurrentDirectory, \"mnist_test.csv\");\n",
    "\n",
    "// create a machine learning context\n",
    "var context = new MLContext();\n",
    "\n",
    "// load data\n",
    "Console.Write(\"Loading data....\");\n",
    "var columnDef = new TextLoader.Column[]\n",
    "{\n",
    "    new TextLoader.Column(nameof(Digit.PixelValues), DataKind.Single, 1, 784),\n",
    "    new TextLoader.Column(\"Number\", DataKind.Single, 0)\n",
    "};\n",
    "var trainDataView = context.Data.LoadFromTextFile(\n",
    "    path: trainDataPath,\n",
    "    columns : columnDef,\n",
    "    hasHeader : true,\n",
    "    separatorChar : ',');\n",
    "var testDataView = context.Data.LoadFromTextFile(\n",
    "    path: testDataPath,\n",
    "    columns : columnDef,\n",
    "    hasHeader : true,\n",
    "    separatorChar : ',');\n",
    "Console.WriteLine(\"done\");"
   ]
  },
  {
   "cell_type": "markdown",
   "metadata": {},
   "source": [
    "This code uses the **LoadFromTextFile** method to load the CSV data directly into memory. Note the **columnDef** variable that instructs ML.NET to load CSV columns 1..784 into the PixelValues column, and CSV column 0 into the Number column.\n",
    "\n",
    "Let's see if the data loaded correctly. We're going to deserialize the training data into an enumeration of **Digit** instances and do a quick visual check of the data:"
   ]
  },
  {
   "cell_type": "code",
   "execution_count": 10,
   "metadata": {},
   "outputs": [
    {
     "data": {
      "text/html": [
       "<table><thead><tr><th><i>index</i></th><th>PixelValues</th><th>Number</th></tr></thead><tbody><tr><td>0</td><td>[ 0, 0, 0, 0, 0, 0, 0, 0, 0, 0 ... (774 more) ]</td><td>5</td></tr><tr><td>1</td><td>[ 0, 0, 0, 0, 0, 0, 0, 0, 0, 0 ... (774 more) ]</td><td>0</td></tr><tr><td>2</td><td>[ 0, 0, 0, 0, 0, 0, 0, 0, 0, 0 ... (774 more) ]</td><td>4</td></tr><tr><td>3</td><td>[ 0, 0, 0, 0, 0, 0, 0, 0, 0, 0 ... (774 more) ]</td><td>1</td></tr><tr><td>4</td><td>[ 0, 0, 0, 0, 0, 0, 0, 0, 0, 0 ... (774 more) ]</td><td>9</td></tr><tr><td>5</td><td>[ 0, 0, 0, 0, 0, 0, 0, 0, 0, 0 ... (774 more) ]</td><td>2</td></tr><tr><td>6</td><td>[ 0, 0, 0, 0, 0, 0, 0, 0, 0, 0 ... (774 more) ]</td><td>1</td></tr><tr><td>7</td><td>[ 0, 0, 0, 0, 0, 0, 0, 0, 0, 0 ... (774 more) ]</td><td>3</td></tr><tr><td>8</td><td>[ 0, 0, 0, 0, 0, 0, 0, 0, 0, 0 ... (774 more) ]</td><td>1</td></tr><tr><td>9</td><td>[ 0, 0, 0, 0, 0, 0, 0, 0, 0, 0 ... (774 more) ]</td><td>4</td></tr></tbody></table>"
      ]
     },
     "metadata": {},
     "output_type": "display_data"
    }
   ],
   "source": [
    "// get an array of heartdata instances\n",
    "var data = context.Data.CreateEnumerable<Digit>(trainDataView, reuseRowObject: false).ToArray();\n",
    "\n",
    "// display the result\n",
    "display(data.Take(10));"
   ]
  },
  {
   "cell_type": "markdown",
   "metadata": {},
   "source": [
    "That looks good. We have a **PixelValues** column with a 1-dimensional array of 768 elements, these are the pixels of the individual images. And the final column is **Number** which indicates what number is visible in the image.\n",
    "\n",
    "Let's try to plot the first number in the sequence to get a feel for what the images look like:"
   ]
  },
  {
   "cell_type": "code",
   "execution_count": 18,
   "metadata": {},
   "outputs": [
    {
     "data": {
      "text/html": [
       "<div id=\"702a52ee-f434-42c7-870b-dae9030b6422\" style=\"width: 600px; height: 600px;\"></div>\r\n",
       "<script type=\"text/javascript\">\n",
       "\r\n",
       "var renderPlotly = function() {\r\n",
       "    var xplotRequire = requirejs.config({context:'xplot-3.0.1',paths:{plotly:'https://cdn.plot.ly/plotly-1.49.2.min'}});\r\n",
       "    xplotRequire(['plotly'], function(Plotly) {\n",
       "\n",
       "            var data = [{\"type\":\"scattergl\",\"x\":[0,1,2,3,4,5,6,7,8,9,10,11,12,13,14,15,16,17,18,19,20,21,22,23,24,25,26,27,0,1,2,3,4,5,6,7,8,9,10,11,12,13,14,15,16,17,18,19,20,21,22,23,24,25,26,27,0,1,2,3,4,5,6,7,8,9,10,11,12,13,14,15,16,17,18,19,20,21,22,23,24,25,26,27,0,1,2,3,4,5,6,7,8,9,10,11,12,13,14,15,16,17,18,19,20,21,22,23,24,25,26,27,0,1,2,3,4,5,6,7,8,9,10,11,12,13,14,15,16,17,18,19,20,21,22,23,24,25,26,27,0,1,2,3,4,5,6,7,8,9,10,11,12,13,14,15,16,17,18,19,20,21,22,23,24,25,26,27,0,1,2,3,4,5,6,7,8,9,10,11,12,13,14,15,16,17,18,19,20,21,22,23,24,25,26,27,0,1,2,3,4,5,6,7,8,9,10,11,12,13,14,15,16,17,18,19,20,21,22,23,24,25,26,27,0,1,2,3,4,5,6,7,8,9,10,11,12,13,14,15,16,17,18,19,20,21,22,23,24,25,26,27,0,1,2,3,4,5,6,7,8,9,10,11,12,13,14,15,16,17,18,19,20,21,22,23,24,25,26,27,0,1,2,3,4,5,6,7,8,9,10,11,12,13,14,15,16,17,18,19,20,21,22,23,24,25,26,27,0,1,2,3,4,5,6,7,8,9,10,11,12,13,14,15,16,17,18,19,20,21,22,23,24,25,26,27,0,1,2,3,4,5,6,7,8,9,10,11,12,13,14,15,16,17,18,19,20,21,22,23,24,25,26,27,0,1,2,3,4,5,6,7,8,9,10,11,12,13,14,15,16,17,18,19,20,21,22,23,24,25,26,27,0,1,2,3,4,5,6,7,8,9,10,11,12,13,14,15,16,17,18,19,20,21,22,23,24,25,26,27,0,1,2,3,4,5,6,7,8,9,10,11,12,13,14,15,16,17,18,19,20,21,22,23,24,25,26,27,0,1,2,3,4,5,6,7,8,9,10,11,12,13,14,15,16,17,18,19,20,21,22,23,24,25,26,27,0,1,2,3,4,5,6,7,8,9,10,11,12,13,14,15,16,17,18,19,20,21,22,23,24,25,26,27,0,1,2,3,4,5,6,7,8,9,10,11,12,13,14,15,16,17,18,19,20,21,22,23,24,25,26,27,0,1,2,3,4,5,6,7,8,9,10,11,12,13,14,15,16,17,18,19,20,21,22,23,24,25,26,27,0,1,2,3,4,5,6,7,8,9,10,11,12,13,14,15,16,17,18,19,20,21,22,23,24,25,26,27,0,1,2,3,4,5,6,7,8,9,10,11,12,13,14,15,16,17,18,19,20,21,22,23,24,25,26,27,0,1,2,3,4,5,6,7,8,9,10,11,12,13,14,15,16,17,18,19,20,21,22,23,24,25,26,27,0,1,2,3,4,5,6,7,8,9,10,11,12,13,14,15,16,17,18,19,20,21,22,23,24,25,26,27,0,1,2,3,4,5,6,7,8,9,10,11,12,13,14,15,16,17,18,19,20,21,22,23,24,25,26,27,0,1,2,3,4,5,6,7,8,9,10,11,12,13,14,15,16,17,18,19,20,21,22,23,24,25,26,27,0,1,2,3,4,5,6,7,8,9,10,11,12,13,14,15,16,17,18,19,20,21,22,23,24,25,26,27,0,1,2,3,4,5,6,7,8,9,10,11,12,13,14,15,16,17,18,19,20,21,22,23,24,25,26,27],\"y\":[27,27,27,27,27,27,27,27,27,27,27,27,27,27,27,27,27,27,27,27,27,27,27,27,27,27,27,27,26,26,26,26,26,26,26,26,26,26,26,26,26,26,26,26,26,26,26,26,26,26,26,26,26,26,26,26,25,25,25,25,25,25,25,25,25,25,25,25,25,25,25,25,25,25,25,25,25,25,25,25,25,25,25,25,24,24,24,24,24,24,24,24,24,24,24,24,24,24,24,24,24,24,24,24,24,24,24,24,24,24,24,24,23,23,23,23,23,23,23,23,23,23,23,23,23,23,23,23,23,23,23,23,23,23,23,23,23,23,23,23,22,22,22,22,22,22,22,22,22,22,22,22,22,22,22,22,22,22,22,22,22,22,22,22,22,22,22,22,21,21,21,21,21,21,21,21,21,21,21,21,21,21,21,21,21,21,21,21,21,21,21,21,21,21,21,21,20,20,20,20,20,20,20,20,20,20,20,20,20,20,20,20,20,20,20,20,20,20,20,20,20,20,20,20,19,19,19,19,19,19,19,19,19,19,19,19,19,19,19,19,19,19,19,19,19,19,19,19,19,19,19,19,18,18,18,18,18,18,18,18,18,18,18,18,18,18,18,18,18,18,18,18,18,18,18,18,18,18,18,18,17,17,17,17,17,17,17,17,17,17,17,17,17,17,17,17,17,17,17,17,17,17,17,17,17,17,17,17,16,16,16,16,16,16,16,16,16,16,16,16,16,16,16,16,16,16,16,16,16,16,16,16,16,16,16,16,15,15,15,15,15,15,15,15,15,15,15,15,15,15,15,15,15,15,15,15,15,15,15,15,15,15,15,15,14,14,14,14,14,14,14,14,14,14,14,14,14,14,14,14,14,14,14,14,14,14,14,14,14,14,14,14,13,13,13,13,13,13,13,13,13,13,13,13,13,13,13,13,13,13,13,13,13,13,13,13,13,13,13,13,12,12,12,12,12,12,12,12,12,12,12,12,12,12,12,12,12,12,12,12,12,12,12,12,12,12,12,12,11,11,11,11,11,11,11,11,11,11,11,11,11,11,11,11,11,11,11,11,11,11,11,11,11,11,11,11,10,10,10,10,10,10,10,10,10,10,10,10,10,10,10,10,10,10,10,10,10,10,10,10,10,10,10,10,9,9,9,9,9,9,9,9,9,9,9,9,9,9,9,9,9,9,9,9,9,9,9,9,9,9,9,9,8,8,8,8,8,8,8,8,8,8,8,8,8,8,8,8,8,8,8,8,8,8,8,8,8,8,8,8,7,7,7,7,7,7,7,7,7,7,7,7,7,7,7,7,7,7,7,7,7,7,7,7,7,7,7,7,6,6,6,6,6,6,6,6,6,6,6,6,6,6,6,6,6,6,6,6,6,6,6,6,6,6,6,6,5,5,5,5,5,5,5,5,5,5,5,5,5,5,5,5,5,5,5,5,5,5,5,5,5,5,5,5,4,4,4,4,4,4,4,4,4,4,4,4,4,4,4,4,4,4,4,4,4,4,4,4,4,4,4,4,3,3,3,3,3,3,3,3,3,3,3,3,3,3,3,3,3,3,3,3,3,3,3,3,3,3,3,3,2,2,2,2,2,2,2,2,2,2,2,2,2,2,2,2,2,2,2,2,2,2,2,2,2,2,2,2,1,1,1,1,1,1,1,1,1,1,1,1,1,1,1,1,1,1,1,1,1,1,1,1,1,1,1,1,0,0,0,0,0,0,0,0,0,0,0,0,0,0,0,0,0,0,0,0,0,0,0,0,0,0,0,0],\"mode\":\"markers\",\"marker\":{\"symbol\":\"square\",\"size\":12,\"color\":[255.0,255.0,255.0,255.0,255.0,255.0,255.0,255.0,255.0,255.0,255.0,255.0,255.0,255.0,255.0,255.0,255.0,255.0,255.0,255.0,255.0,255.0,255.0,255.0,255.0,255.0,255.0,255.0,255.0,255.0,255.0,255.0,255.0,255.0,255.0,255.0,255.0,255.0,255.0,255.0,255.0,255.0,255.0,255.0,255.0,255.0,255.0,255.0,255.0,255.0,255.0,255.0,255.0,255.0,255.0,255.0,255.0,255.0,255.0,255.0,255.0,255.0,255.0,255.0,255.0,255.0,255.0,255.0,255.0,255.0,255.0,255.0,255.0,255.0,255.0,255.0,255.0,255.0,255.0,255.0,255.0,255.0,255.0,255.0,255.0,255.0,255.0,255.0,255.0,255.0,255.0,255.0,255.0,255.0,255.0,255.0,255.0,255.0,255.0,255.0,255.0,255.0,255.0,255.0,255.0,255.0,255.0,255.0,255.0,255.0,255.0,255.0,255.0,255.0,255.0,255.0,255.0,255.0,255.0,255.0,255.0,255.0,255.0,255.0,255.0,255.0,255.0,255.0,255.0,255.0,255.0,255.0,255.0,255.0,255.0,255.0,255.0,255.0,255.0,255.0,255.0,255.0,255.0,255.0,255.0,255.0,255.0,255.0,255.0,255.0,255.0,255.0,252.0,237.0,237.0,237.0,129.0,119.0,80.0,229.0,89.0,0.0,8.0,128.0,255.0,255.0,255.0,255.0,255.0,255.0,255.0,255.0,255.0,255.0,255.0,255.0,225.0,219.0,161.0,101.0,85.0,2.0,2.0,2.0,2.0,2.0,30.0,83.0,2.0,13.0,60.0,191.0,255.0,255.0,255.0,255.0,255.0,255.0,255.0,255.0,255.0,255.0,255.0,206.0,17.0,2.0,2.0,2.0,2.0,2.0,2.0,2.0,2.0,4.0,162.0,173.0,173.0,199.0,216.0,255.0,255.0,255.0,255.0,255.0,255.0,255.0,255.0,255.0,255.0,255.0,255.0,237.0,36.0,2.0,2.0,2.0,2.0,2.0,57.0,73.0,8.0,14.0,255.0,255.0,255.0,255.0,255.0,255.0,255.0,255.0,255.0,255.0,255.0,255.0,255.0,255.0,255.0,255.0,255.0,255.0,175.0,99.0,148.0,2.0,2.0,50.0,244.0,255.0,212.0,101.0,255.0,255.0,255.0,255.0,255.0,255.0,255.0,255.0,255.0,255.0,255.0,255.0,255.0,255.0,255.0,255.0,255.0,255.0,255.0,241.0,254.0,101.0,2.0,165.0,255.0,255.0,255.0,255.0,255.0,255.0,255.0,255.0,255.0,255.0,255.0,255.0,255.0,255.0,255.0,255.0,255.0,255.0,255.0,255.0,255.0,255.0,255.0,255.0,255.0,116.0,2.0,65.0,253.0,255.0,255.0,255.0,255.0,255.0,255.0,255.0,255.0,255.0,255.0,255.0,255.0,255.0,255.0,255.0,255.0,255.0,255.0,255.0,255.0,255.0,255.0,255.0,255.0,244.0,65.0,2.0,185.0,255.0,255.0,255.0,255.0,255.0,255.0,255.0,255.0,255.0,255.0,255.0,255.0,255.0,255.0,255.0,255.0,255.0,255.0,255.0,255.0,255.0,255.0,255.0,255.0,255.0,220.0,14.0,30.0,95.0,147.0,254.0,255.0,255.0,255.0,255.0,255.0,255.0,255.0,255.0,255.0,255.0,255.0,255.0,255.0,255.0,255.0,255.0,255.0,255.0,255.0,255.0,255.0,255.0,255.0,174.0,15.0,2.0,2.0,136.0,230.0,255.0,255.0,255.0,255.0,255.0,255.0,255.0,255.0,255.0,255.0,255.0,255.0,255.0,255.0,255.0,255.0,255.0,255.0,255.0,255.0,255.0,255.0,255.0,210.0,69.0,2.0,2.0,105.0,228.0,255.0,255.0,255.0,255.0,255.0,255.0,255.0,255.0,255.0,255.0,255.0,255.0,255.0,255.0,255.0,255.0,255.0,255.0,255.0,255.0,255.0,255.0,255.0,239.0,162.0,3.0,2.0,68.0,255.0,255.0,255.0,255.0,255.0,255.0,255.0,255.0,255.0,255.0,255.0,255.0,255.0,255.0,255.0,255.0,255.0,255.0,255.0,255.0,255.0,255.0,255.0,255.0,255.0,6.0,2.0,6.0,191.0,255.0,255.0,255.0,255.0,255.0,255.0,255.0,255.0,255.0,255.0,255.0,255.0,255.0,255.0,255.0,255.0,255.0,255.0,255.0,255.0,255.0,209.0,125.0,72.0,2.0,2.0,48.0,253.0,255.0,255.0,255.0,255.0,255.0,255.0,255.0,255.0,255.0,255.0,255.0,255.0,255.0,255.0,255.0,255.0,255.0,255.0,255.0,216.0,107.0,26.0,2.0,2.0,2.0,5.0,73.0,255.0,255.0,255.0,255.0,255.0,255.0,255.0,255.0,255.0,255.0,255.0,255.0,255.0,255.0,255.0,255.0,255.0,255.0,231.0,141.0,34.0,2.0,2.0,2.0,2.0,54.0,177.0,255.0,255.0,255.0,255.0,255.0,255.0,255.0,255.0,255.0,255.0,255.0,255.0,255.0,255.0,255.0,255.0,255.0,232.0,189.0,42.0,2.0,2.0,2.0,2.0,57.0,174.0,253.0,255.0,255.0,255.0,255.0,255.0,255.0,255.0,255.0,255.0,255.0,255.0,255.0,255.0,255.0,255.0,255.0,237.0,84.0,36.0,2.0,2.0,2.0,2.0,60.0,175.0,246.0,255.0,255.0,255.0,255.0,255.0,255.0,255.0,255.0,255.0,255.0,255.0,255.0,255.0,255.0,255.0,255.0,200.0,83.0,29.0,2.0,2.0,2.0,2.0,11.0,122.0,244.0,255.0,255.0,255.0,255.0,255.0,255.0,255.0,255.0,255.0,255.0,255.0,255.0,255.0,255.0,255.0,255.0,255.0,255.0,119.0,2.0,2.0,2.0,43.0,120.0,123.0,239.0,255.0,255.0,255.0,255.0,255.0,255.0,255.0,255.0,255.0,255.0,255.0,255.0,255.0,255.0,255.0,255.0,255.0,255.0,255.0,255.0,255.0,255.0,255.0,255.0,255.0,255.0,255.0,255.0,255.0,255.0,255.0,255.0,255.0,255.0,255.0,255.0,255.0,255.0,255.0,255.0,255.0,255.0,255.0,255.0,255.0,255.0,255.0,255.0,255.0,255.0,255.0,255.0,255.0,255.0,255.0,255.0,255.0,255.0,255.0,255.0,255.0,255.0,255.0,255.0,255.0,255.0,255.0,255.0,255.0,255.0,255.0,255.0,255.0,255.0,255.0,255.0,255.0,255.0,255.0,255.0,255.0,255.0,255.0,255.0,255.0,255.0,255.0,255.0,255.0,255.0,255.0,255.0,255.0,255.0,255.0,255.0,255.0,255.0,255.0,255.0],\"colorscale\":\"Greys\"}}];\n",
       "            var layout = {\"title\":\"The first digit\",\"xaxis\":{\"title\":\"X\",\"_isSubplotObj\":true},\"yaxis\":{\"title\":\"Y\",\"_isSubplotObj\":true}};\n",
       "            Plotly.newPlot('702a52ee-f434-42c7-870b-dae9030b6422', data, layout);\n",
       "        \n",
       "});\r\n",
       "};\r\n",
       "if ((typeof(requirejs) !==  typeof(Function)) || (typeof(requirejs.config) !== typeof(Function))) { \r\n",
       "    var script = document.createElement(\"script\"); \r\n",
       "    script.setAttribute(\"src\", \"https://cdnjs.cloudflare.com/ajax/libs/require.js/2.3.6/require.min.js\"); \r\n",
       "    script.onload = function(){\r\n",
       "        renderPlotly();\r\n",
       "    };\r\n",
       "    document.getElementsByTagName(\"head\")[0].appendChild(script); \r\n",
       "}\r\n",
       "else {\r\n",
       "    renderPlotly();\r\n",
       "}\n",
       "</script>\n"
      ]
     },
     "metadata": {},
     "output_type": "display_data"
    }
   ],
   "source": [
    "// plot the first digit\n",
    "var chart = Chart.Plot(\n",
    "    new Graph.Scattergl()\n",
    "    {\n",
    "        x = (from i in Enumerable.Range(0,28) from j in Enumerable.Range(0,28) select j),\n",
    "        y = (from i in Enumerable.Range(0,28) from j in Enumerable.Range(0,28) select 27-i),\n",
    "        mode = \"markers\",\n",
    "        marker = new Graph.Marker()\n",
    "        {\n",
    "            symbol = \"square\",\n",
    "            size = 12,\n",
    "            color = from v in data[0].PixelValues select 255-v,\n",
    "            colorscale = \"Greys\"\n",
    "        }\n",
    "    }\n",
    ");\n",
    "chart.WithXTitle(\"X\");\n",
    "chart.WithYTitle(\"Y\");\n",
    "chart.WithTitle(\"The first digit\");\n",
    "chart.Width = 600;\n",
    "chart.Height = 600;\n",
    "display(chart);"
   ]
  },
  {
   "cell_type": "markdown",
   "metadata": {},
   "source": [
    "You can see what our app is up against. These digits are not like neatly printed characters at all but instead resemble quite sloppy handwriting. Will our machine learning model be able to make sense out of them? \n",
    "\n",
    "Let's find out!\n",
    "\n",
    "## Training the model\n",
    "\n",
    "We're going to build the machine learning pipeline now:"
   ]
  },
  {
   "cell_type": "code",
   "execution_count": 19,
   "metadata": {},
   "outputs": [
    {
     "name": "stdout",
     "output_type": "stream",
     "text": [
      "Training the model, this can take a few seconds. Please wait until the word 'done' appears....done\n"
     ]
    }
   ],
   "source": [
    "// build a training pipeline\n",
    "// step 1: map the number column to a key value and store in the label column\n",
    "var pipeline = context.Transforms.Conversion.MapValueToKey(\n",
    "    outputColumnName: \"Label\", \n",
    "    inputColumnName: \"Number\", \n",
    "    keyOrdinality: ValueToKeyMappingEstimator.KeyOrdinality.ByValue)\n",
    "\n",
    "    // step 2: concatenate all feature columns\n",
    "    .Append(context.Transforms.Concatenate(\n",
    "        \"Features\", \n",
    "        nameof(Digit.PixelValues)))\n",
    "        \n",
    "    // step 3: cache data to speed up training                \n",
    "    .AppendCacheCheckpoint(context)\n",
    "\n",
    "    // step 4: train the model with SDCA\n",
    "    .Append(context.MulticlassClassification.Trainers.SdcaMaximumEntropy(\n",
    "        labelColumnName: \"Label\", \n",
    "        featureColumnName: \"Features\"))\n",
    "\n",
    "    // step 5: map the label key value back to a number\n",
    "    .Append(context.Transforms.Conversion.MapKeyToValue(\n",
    "        outputColumnName: \"Number\",\n",
    "        inputColumnName: \"Label\"));\n",
    "\n",
    "// train the model\n",
    "Console.Write(\"Training the model, this can take a few seconds. Please wait until the word 'done' appears....\");\n",
    "var model = pipeline.Fit(trainDataView);\n",
    "Console.WriteLine(\"done\");"
   ]
  },
  {
   "cell_type": "markdown",
   "metadata": {},
   "source": [
    "Machine learning models in ML.NET are built with pipelines, which are sequences of data-loading, transformation, and learning components.\n",
    "\n",
    "This pipeline has the following components:\n",
    "\n",
    "* **MapValueToKey** which reads the **Number** column and builds a dictionary of unique values. It then produces an output column called **Label** which contains the dictionary key for each number value. We need this step because we can only train a multiclass classifier on keys. \n",
    "* **Concatenate** which converts the PixelValue vector into a single column called Features. This is a required step because ML.NET can only train on a single input column.\n",
    "* **AppendCacheCheckpoint** which caches all training data at this point. This is an optimization step that speeds up the learning algorithm which comes next.\n",
    "* A **SdcaMaximumEntropy** classification learner which will train the model to make accurate predictions.\n",
    "* A final **MapKeyToValue** step which converts the keys in the **Label** column back to the original number values. We need this step to show the numbers when making predictions. \n",
    "\n",
    "With the pipeline fully assembled, you can train the model with a call to **Fit**.\n",
    "\n",
    "## Evaluating the model\n",
    "\n",
    "You now have a fully- trained model. So now it's time to take the test set, predict the number for each digit image, and calculate the accuracy metrics of the model:"
   ]
  },
  {
   "cell_type": "code",
   "execution_count": 20,
   "metadata": {},
   "outputs": [
    {
     "name": "stdout",
     "output_type": "stream",
     "text": [
      "Evaluating model....\n",
      "Evaluation metrics\n",
      "    MicroAccuracy:    0.874\n",
      "    MacroAccuracy:    0.872\n",
      "    LogLoss:          .414\n",
      "    LogLossReduction: .82\n",
      "\n"
     ]
    }
   ],
   "source": [
    "// use the model to make predictions on the test data\n",
    "Console.WriteLine(\"Evaluating model....\");\n",
    "var predictions = model.Transform(testDataView);\n",
    "\n",
    "// evaluate the predictions\n",
    "var metrics = context.MulticlassClassification.Evaluate(\n",
    "    data: predictions, \n",
    "    labelColumnName: \"Number\", \n",
    "    scoreColumnName: \"Score\");\n",
    "\n",
    "// show evaluation metrics\n",
    "Console.WriteLine($\"Evaluation metrics\");\n",
    "Console.WriteLine($\"    MicroAccuracy:    {metrics.MicroAccuracy:0.###}\");\n",
    "Console.WriteLine($\"    MacroAccuracy:    {metrics.MacroAccuracy:0.###}\");\n",
    "Console.WriteLine($\"    LogLoss:          {metrics.LogLoss:#.###}\");\n",
    "Console.WriteLine($\"    LogLossReduction: {metrics.LogLossReduction:#.###}\");\n",
    "Console.WriteLine();"
   ]
  },
  {
   "cell_type": "markdown",
   "metadata": {},
   "source": [
    "This code calls **Transform** to set up predictions for every single image in the test set. And the **Evaluate** method compares these predictions to the actual labels and automatically calculates four metrics:\n",
    "\n",
    "* **MicroAccuracy**: this is the average accuracy (=the number of correct predictions divided by the total number of predictions) for every digit in the dataset.\n",
    "* **MacroAccuracy**: this is calculated by first calculating the average accuracy for each unique prediction value, and then taking the averages of those averages.\n",
    "* **LogLoss**: this is a metric that expresses the size of the error in the predictions the model is making. A logloss of zero means every prediction is correct, and the loss value rises as the model makes more and more mistakes.\n",
    "* **LogLossReduction**: this metric is also called the Reduction in Information Gain (RIG). It expresses the probability that the model’s predictions are better than random chance.\n",
    "\n",
    "We get a MicroAccuracy value of 0.874 and a MacroAccuracy value of 0.872. These two values are very close together, which means that the dataset is not biased. Each digit occurs roughly the same number of times in the file.\n",
    "\n",
    "A micro-accuracy of 87% is not a bad result, it means that out of 100 digits the model only makes 13 mistakes. But keep in mind that a human would only make 2.5 mistakes on the same task! This model is nowhere near human performance. \n",
    "\n",
    "Let's take a look at the confusion matrix:"
   ]
  },
  {
   "cell_type": "code",
   "execution_count": 34,
   "metadata": {},
   "outputs": [
    {
     "data": {
      "text/html": [
       "<div id=\"4cb969b8-8ee5-43dd-a473-3ce932bb45b1\" style=\"width: 600px; height: 600px;\"></div>\r\n",
       "<script type=\"text/javascript\">\n",
       "\r\n",
       "var renderPlotly = function() {\r\n",
       "    var xplotRequire = requirejs.config({context:'xplot-3.0.1',paths:{plotly:'https://cdn.plot.ly/plotly-1.49.2.min'}});\r\n",
       "    xplotRequire(['plotly'], function(Plotly) {\n",
       "\n",
       "            var data = [{\"type\":\"scattergl\",\"x\":[0,1,2,3,4,5,6,7,8,9,0,1,2,3,4,5,6,7,8,9,0,1,2,3,4,5,6,7,8,9,0,1,2,3,4,5,6,7,8,9,0,1,2,3,4,5,6,7,8,9,0,1,2,3,4,5,6,7,8,9,0,1,2,3,4,5,6,7,8,9,0,1,2,3,4,5,6,7,8,9,0,1,2,3,4,5,6,7,8,9,0,1,2,3,4,5,6,7,8,9],\"y\":[0,0,0,0,0,0,0,0,0,0,1,1,1,1,1,1,1,1,1,1,2,2,2,2,2,2,2,2,2,2,3,3,3,3,3,3,3,3,3,3,4,4,4,4,4,4,4,4,4,4,5,5,5,5,5,5,5,5,5,5,6,6,6,6,6,6,6,6,6,6,7,7,7,7,7,7,7,7,7,7,8,8,8,8,8,8,8,8,8,8,9,9,9,9,9,9,9,9,9,9],\"mode\":\"markers\",\"marker\":{\"symbol\":\"square\",\"size\":32,\"color\":[-925.0,10.0,-4.0,5.0,6.0,-9.0,-9.0,2.0,6.0,0.0,9.0,-1085.0,-5.0,10.0,7.0,4.0,7.0,-4.0,-3.0,1.0,5.0,9.0,-835.0,-7.0,6.0,5.0,-3.0,-18.0,0.0,4.0,9.0,5.0,-14.0,-865.0,9.0,-53.0,7.0,6.0,-30.0,-4.0,10.0,9.0,-13.0,9.0,-856.0,-9.0,-22.0,5.0,-2.0,-37.0,-15.0,7.0,7.0,-49.0,6.0,-707.0,-19.0,10.0,-48.0,-3.0,3.0,6.0,-12.0,6.0,-10.0,-15.0,-837.0,10.0,-20.0,9.0,8.0,9.0,-16.0,-2.0,7.0,2.0,8.0,-914.0,-4.0,-20.0,6.0,-14.0,-37.0,-8.0,2.0,-10.0,0.0,5.0,-756.0,1.0,10.0,9.0,-3.0,-9.0,-59.0,0.0,10.0,-30.0,-17.0,-860.0],\"colorscale\":\"Greys\"}}];\n",
       "            var layout = {\"title\":\"Confusion matrix\",\"xaxis\":{\"title\":\"Predicted digit\",\"_isSubplotObj\":true},\"yaxis\":{\"title\":\"Actual digit\",\"_isSubplotObj\":true}};\n",
       "            Plotly.newPlot('4cb969b8-8ee5-43dd-a473-3ce932bb45b1', data, layout);\n",
       "        \n",
       "});\r\n",
       "};\r\n",
       "if ((typeof(requirejs) !==  typeof(Function)) || (typeof(requirejs.config) !== typeof(Function))) { \r\n",
       "    var script = document.createElement(\"script\"); \r\n",
       "    script.setAttribute(\"src\", \"https://cdnjs.cloudflare.com/ajax/libs/require.js/2.3.6/require.min.js\"); \r\n",
       "    script.onload = function(){\r\n",
       "        renderPlotly();\r\n",
       "    };\r\n",
       "    document.getElementsByTagName(\"head\")[0].appendChild(script); \r\n",
       "}\r\n",
       "else {\r\n",
       "    renderPlotly();\r\n",
       "}\n",
       "</script>\n"
      ]
     },
     "metadata": {},
     "output_type": "display_data"
    }
   ],
   "source": [
    "// plot the confusion matrix\n",
    "var n = metrics.ConfusionMatrix.NumberOfClasses;\n",
    "var chart = Chart.Plot(\n",
    "    new Graph.Scattergl()\n",
    "    {\n",
    "        x = (from i in Enumerable.Range(0,n) from j in Enumerable.Range(0,n) select j),\n",
    "        y = (from i in Enumerable.Range(0,n) from j in Enumerable.Range(0,n) select i),\n",
    "        mode = \"markers\",\n",
    "        marker = new Graph.Marker()\n",
    "        {\n",
    "            symbol = \"square\",\n",
    "            size = 32,\n",
    "            color = from i in Enumerable.Range(0,n) from j in Enumerable.Range(0,n) select n-metrics.ConfusionMatrix.Counts[j][i],\n",
    "            colorscale = \"Greys\"\n",
    "        }\n",
    "    }\n",
    ");\n",
    "chart.WithXTitle(\"Predicted digit\");\n",
    "chart.WithYTitle(\"Actual digit\");\n",
    "chart.WithTitle(\"Confusion matrix\");\n",
    "chart.Width = 600;\n",
    "chart.Height = 600;\n",
    "display(chart);"
   ]
  },
  {
   "cell_type": "markdown",
   "metadata": {},
   "source": [
    "This looks great! We have a nice dark sequence along the main diagonal with all the correct predictions the model is making. There are a couple of grey cells visible that correspond to understandable mistakes: a 9 misidentified as a 4, a 3 that's taken for a 5, and a 5 that's taken for an 8, among others.\n",
    "\n",
    "The model has clearly learned to identify circles and half-circles in digits, but it sometimes struggles to match them to the correct number. \n",
    "\n",
    "## Making a prediction\n",
    "\n",
    "To wrap up, let’s use the model to make a prediction.\n",
    "\n",
    "You will pick five arbitrary digits from the test set, run them through the model, and make a prediction for each one.\n",
    "\n",
    "Here’s how to do it:"
   ]
  },
  {
   "cell_type": "code",
   "execution_count": 33,
   "metadata": {},
   "outputs": [
    {
     "data": {
      "text/html": [
       "<table><thead><tr><th><i>index</i></th><th>Digit</th><th>Predictions</th></tr></thead><tbody><tr><td>0</td><td>1</td><td>[ 0.000%, 98.640%, 0.188%, 0.403%, 0.003%, 0.017%, 0.005%, 0.134%, 0.565%, 0.046% ]</td></tr><tr><td>1</td><td>9</td><td>[ 0.044%, 0.000%, 0.176%, 0.007%, 7.662%, 0.010%, 0.006%, 8.773%, 0.593%, 82.730% ]</td></tr><tr><td>2</td><td>0</td><td>[ 99.560%, 0.000%, 0.019%, 0.175%, 0.000%, 0.125%, 0.000%, 0.000%, 0.121%, 0.000% ]</td></tr><tr><td>3</td><td>3</td><td>[ 0.016%, 0.066%, 39.764%, 48.136%, 1.798%, 0.980%, 0.046%, 0.064%, 4.464%, 4.666% ]</td></tr><tr><td>4</td><td>5</td><td>[ 0.170%, 0.000%, 0.042%, 1.620%, 0.044%, 90.163%, 0.008%, 0.004%, 4.052%, 3.895% ]</td></tr></tbody></table>"
      ]
     },
     "metadata": {},
     "output_type": "display_data"
    }
   ],
   "source": [
    "// grab five digits from the test data\n",
    "var digits = context.Data.CreateEnumerable<Digit>(testDataView, reuseRowObject: false).ToArray();\n",
    "var testDigits = new Digit[] { digits[5], digits[16], digits[28], digits[63], digits[129] };\n",
    "\n",
    "// create a prediction engine\n",
    "var engine = context.Model.CreatePredictionEngine<Digit, DigitPrediction>(model);\n",
    "\n",
    "// predict each test digit\n",
    "var results = from d in testDigits select new { Digit = d.Number, Predictions = from p in engine.Predict(d).Score select p.ToString(\"P\") };\n",
    "display(results);"
   ]
  },
  {
   "cell_type": "markdown",
   "metadata": {},
   "source": [
    "This code calls the **CreateEnumerable** method to convert the test dataview to an array of Digit instances. Then it picks five random digits for testing.\n",
    "\n",
    "The **CreatePredictionEngine** method sets up a prediction engine. The two type arguments are the input data class and the class to hold the prediction.\n",
    "\n",
    "And finally, the code uses a LINQ expression that repeatedly calls **Predict** to generate a table with digit labels and the 10 prediction scores for each possible result. \n",
    "\n",
    "And here are the results for the five test digits:\n",
    "\n",
    "* The first prediction scores 98% on ‘1’ which is correct.\n",
    "* The second prediction scores 82% on ‘9’ (correct) and 7% on ‘4’. And this make sense if you think about it — a 4 and a 9 do look very similar. But the model correctly picks ‘9’ as the most likely solution.\n",
    "* The third prediction scores 99% on ‘0’ which is correct.\n",
    "* The fourth prediction scores only 48% on ‘3’. The model thinks the number could also be a '2', a '9', an '8', or a '4'. This also makes sense - a very sloppily drawn 3 could indeed look like a 2, a 9, or an 8. \n",
    "* And the fifth prediction scores 90% on '5' which is correct.\n",
    "\n",
    "All five test predictions are correct. The highest prediction score always corresponds to the correct digit.\n",
    "\n",
    "## Further improvements\n",
    "\n",
    "How do you think we could improve this model even further? "
   ]
  }
 ],
 "metadata": {
  "kernelspec": {
   "display_name": ".NET (C#)",
   "language": "C#",
   "name": ".net-csharp"
  },
  "language_info": {
   "file_extension": ".cs",
   "mimetype": "text/x-csharp",
   "name": "C#",
   "pygments_lexer": "csharp",
   "version": "8.0"
  }
 },
 "nbformat": 4,
 "nbformat_minor": 4
}
