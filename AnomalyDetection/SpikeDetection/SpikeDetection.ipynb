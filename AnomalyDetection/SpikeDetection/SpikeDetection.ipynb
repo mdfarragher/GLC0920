{
 "cells": [
  {
   "cell_type": "code",
   "execution_count": 4,
   "metadata": {},
   "outputs": [
    {
     "data": {
      "text/html": [
       "Installed package Microsoft.ML.TimeSeries version 1.4.0"
      ]
     },
     "metadata": {},
     "output_type": "display_data"
    },
    {
     "data": {
      "text/html": [
       "Installed package Microsoft.ML version 1.4.0"
      ]
     },
     "metadata": {},
     "output_type": "display_data"
    }
   ],
   "source": [
    "#r nuget:Microsoft.ML\n",
    "#r nuget:Microsoft.ML.TimeSeries"
   ]
  },
  {
   "cell_type": "code",
   "execution_count": 23,
   "metadata": {},
   "outputs": [],
   "source": [
    "using System;\n",
    "using System.IO;\n",
    "using System.Linq;\n",
    "using Microsoft.ML;\n",
    "using Microsoft.ML.Data;\n",
    "using Microsoft.ML.Transforms.TimeSeries;\n",
    "using XPlot.Plotly;"
   ]
  },
  {
   "cell_type": "code",
   "execution_count": 7,
   "metadata": {},
   "outputs": [],
   "source": [
    "public class SalesRecord\n",
    "{\n",
    "    [LoadColumn(0)] public string Month;\n",
    "    [LoadColumn(1)] public float Sales;\n",
    "}\n",
    "\n",
    "public class SalesPrediction\n",
    "{\n",
    "    //vector to hold alert,score,p-value values\n",
    "    [VectorType(3)] public double[] Prediction { get; set; }\n",
    "}\n"
   ]
  },
  {
   "cell_type": "code",
   "execution_count": 11,
   "metadata": {},
   "outputs": [
    {
     "name": "stdout",
     "output_type": "stream",
     "text": [
      "Loading data...done\n"
     ]
    }
   ],
   "source": [
    "// filename for data set\n",
    "private static string dataPath = Path.Combine(Environment.CurrentDirectory, \"shampoo-sales.csv\");\n",
    "\n",
    "// create the machine learning context\n",
    "var context = new MLContext();\n",
    "\n",
    "// load the data file\n",
    "Console.Write(\"Loading data...\");\n",
    "var dataView = context.Data.LoadFromTextFile<SalesRecord>(path: dataPath, hasHeader: true, separatorChar: ',');\n",
    "Console.WriteLine(\"done\");"
   ]
  },
  {
   "cell_type": "code",
   "execution_count": 15,
   "metadata": {},
   "outputs": [
    {
     "data": {
      "text/html": [
       "<table><thead><tr><th><i>index</i></th><th>Month</th><th>Sales</th></tr></thead><tbody><tr><td>0</td><td>1-Jan</td><td>266</td></tr><tr><td>1</td><td>2-Jan</td><td>145.9</td></tr><tr><td>2</td><td>3-Jan</td><td>183.1</td></tr><tr><td>3</td><td>4-Jan</td><td>119.3</td></tr><tr><td>4</td><td>5-Jan</td><td>180.3</td></tr><tr><td>5</td><td>6-Jan</td><td>168.5</td></tr><tr><td>6</td><td>7-Jan</td><td>231.8</td></tr><tr><td>7</td><td>8-Jan</td><td>224.5</td></tr><tr><td>8</td><td>9-Jan</td><td>192.8</td></tr><tr><td>9</td><td>10-Jan</td><td>122.9</td></tr></tbody></table>"
      ]
     },
     "metadata": {},
     "output_type": "display_data"
    }
   ],
   "source": [
    "// get an array of data points\n",
    "var sales = context.Data.CreateEnumerable<SalesRecord>(dataView, reuseRowObject: false).ToArray();\n",
    "display(sales.Take(10));"
   ]
  },
  {
   "cell_type": "code",
   "execution_count": 18,
   "metadata": {},
   "outputs": [
    {
     "data": {
      "text/html": [
       "<div id=\"7eb1ecc8-2ed3-4148-b6a3-8904e8895431\" style=\"width: 600px; height: 600px;\"></div>\r\n",
       "<script type=\"text/javascript\">\n",
       "\r\n",
       "var renderPlotly = function() {\r\n",
       "    var xplotRequire = requirejs.config({context:'xplot-3.0.1',paths:{plotly:'https://cdn.plot.ly/plotly-1.49.2.min'}});\r\n",
       "    xplotRequire(['plotly'], function(Plotly) {\n",
       "\n",
       "            var data = [{\"type\":\"scattergl\",\"x\":[1,2,3,4,5,6,7,8,9,10,11,12,13,14,15,16,17,18,19,20,21,22,23,24,25,26,27,28,29,30,31,32,33,34,35,36],\"y\":[266.0,145.9,183.1,119.3,180.3,168.5,231.8,224.5,192.8,122.9,336.5,185.9,194.3,149.5,210.1,273.3,191.4,287.0,226.0,303.6,289.9,421.6,264.5,342.3,339.7,440.4,315.9,439.3,401.3,437.4,575.5,407.6,682.0,475.3,581.3,646.9],\"mode\":\"line\"}];\n",
       "            var layout = {\"title\":\"Sales data\",\"xaxis\":{\"title\":\"Month\",\"_isSubplotObj\":true},\"yaxis\":{\"title\":\"Sales\",\"_isSubplotObj\":true}};\n",
       "            Plotly.newPlot('7eb1ecc8-2ed3-4148-b6a3-8904e8895431', data, layout);\n",
       "        \n",
       "});\r\n",
       "};\r\n",
       "if ((typeof(requirejs) !==  typeof(Function)) || (typeof(requirejs.config) !== typeof(Function))) { \r\n",
       "    var script = document.createElement(\"script\"); \r\n",
       "    script.setAttribute(\"src\", \"https://cdnjs.cloudflare.com/ajax/libs/require.js/2.3.6/require.min.js\"); \r\n",
       "    script.onload = function(){\r\n",
       "        renderPlotly();\r\n",
       "    };\r\n",
       "    document.getElementsByTagName(\"head\")[0].appendChild(script); \r\n",
       "}\r\n",
       "else {\r\n",
       "    renderPlotly();\r\n",
       "}\n",
       "</script>\n"
      ]
     },
     "metadata": {},
     "output_type": "display_data"
    }
   ],
   "source": [
    "// plot the data\n",
    "var n = sales.Count();\n",
    "var chart = Chart.Plot(\n",
    "    new Graph.Scattergl()\n",
    "    {\n",
    "        x = Enumerable.Range(1,n),\n",
    "        y = (from i in Enumerable.Range(0,n) select sales[i].Sales),\n",
    "        mode = \"line\"\n",
    "    }\n",
    ");\n",
    "chart.WithXTitle(\"Month\");\n",
    "chart.WithYTitle(\"Sales\");\n",
    "chart.WithTitle(\"Sales data\");\n",
    "chart.Width = 600;\n",
    "chart.Height = 600;\n",
    "display(chart);"
   ]
  },
  {
   "cell_type": "code",
   "execution_count": 27,
   "metadata": {},
   "outputs": [
    {
     "name": "stdout",
     "output_type": "stream",
     "text": [
      "Training model...done\n"
     ]
    }
   ],
   "source": [
    "// build a training pipeline for detecting spikes\n",
    "var pipeline = context.Transforms.DetectIidSpike(\n",
    "    outputColumnName: nameof(SalesPrediction.Prediction), \n",
    "    inputColumnName: nameof(SalesRecord.Sales),\n",
    "    confidence: 95, \n",
    "    pvalueHistoryLength: n / 4); // 25% of x-range\n",
    "\n",
    "// train the model\n",
    "Console.Write(\"Training model...\");\n",
    "var model = pipeline.Fit(dataView);\n",
    "Console.WriteLine(\"done\");"
   ]
  },
  {
   "cell_type": "code",
   "execution_count": 29,
   "metadata": {},
   "outputs": [],
   "source": [
    "// predict spikes in the data\n",
    "var predictions = model.Transform(dataView);\n",
    "var predictionArray = context.Data.CreateEnumerable<SalesPrediction>(predictions, reuseRowObject: false).ToArray();\n",
    "\n",
    "// find the spikes in the data\n",
    "var spikes = (from i in Enumerable.Range(0, predictionArray.Count()) \n",
    "              where predictionArray[i].Prediction[0] == 1\n",
    "              select (Day: i, Sales: sales[i].Sales));"
   ]
  },
  {
   "cell_type": "code",
   "execution_count": 54,
   "metadata": {},
   "outputs": [
    {
     "data": {
      "text/html": [
       "<div id=\"62e22e9f-cbd7-4000-bdd9-9fdb6f601371\" style=\"width: 600px; height: 600px;\"></div>\r\n",
       "<script type=\"text/javascript\">\n",
       "\r\n",
       "var renderPlotly = function() {\r\n",
       "    var xplotRequire = requirejs.config({context:'xplot-3.0.1',paths:{plotly:'https://cdn.plot.ly/plotly-1.49.2.min'}});\r\n",
       "    xplotRequire(['plotly'], function(Plotly) {\n",
       "\n",
       "            var data = [{\"type\":\"scattergl\",\"x\":[1,2,3,4,5,6,7,8,9,10,11,12,13,14,15,16,17,18,19,20,21,22,23,24,25,26,27,28,29,30,31,32,33,34,35,36],\"y\":[266.0,145.9,183.1,119.3,180.3,168.5,231.8,224.5,192.8,122.9,336.5,185.9,194.3,149.5,210.1,273.3,191.4,287.0,226.0,303.6,289.9,421.6,264.5,342.3,339.7,440.4,315.9,439.3,401.3,437.4,575.5,407.6,682.0,475.3,581.3,646.9],\"mode\":\"line\"},{\"type\":\"scattergl\",\"x\":[11,22,31,33],\"y\":[336.5,421.6,575.5,682.0],\"mode\":\"markers\",\"marker\":{\"symbol\":\"square\",\"size\":16}}];\n",
       "            var layout = {\"title\":\"Sales data\",\"showlegend\":false,\"xaxis\":{\"title\":\"Month\",\"_isSubplotObj\":true},\"yaxis\":{\"title\":\"Sales\",\"_isSubplotObj\":true}};\n",
       "            Plotly.newPlot('62e22e9f-cbd7-4000-bdd9-9fdb6f601371', data, layout);\n",
       "        \n",
       "});\r\n",
       "};\r\n",
       "if ((typeof(requirejs) !==  typeof(Function)) || (typeof(requirejs.config) !== typeof(Function))) { \r\n",
       "    var script = document.createElement(\"script\"); \r\n",
       "    script.setAttribute(\"src\", \"https://cdnjs.cloudflare.com/ajax/libs/require.js/2.3.6/require.min.js\"); \r\n",
       "    script.onload = function(){\r\n",
       "        renderPlotly();\r\n",
       "    };\r\n",
       "    document.getElementsByTagName(\"head\")[0].appendChild(script); \r\n",
       "}\r\n",
       "else {\r\n",
       "    renderPlotly();\r\n",
       "}\n",
       "</script>\n"
      ]
     },
     "metadata": {},
     "output_type": "display_data"
    }
   ],
   "source": [
    "// plot the spikes\n",
    "var n = sales.Count();\n",
    "var chart = Chart.Plot(\n",
    "    new Graph.Scattergl[]\n",
    "    {\n",
    "        new Graph.Scattergl() {\n",
    "            x = Enumerable.Range(1,n),\n",
    "            y = (from i in Enumerable.Range(0,n) select sales[i].Sales),\n",
    "            mode = \"line\"\n",
    "        },\n",
    "        new Graph.Scattergl() {\n",
    "            x = (from s in spikes select s.Day+1),\n",
    "            y = (from s in spikes select s.Sales),\n",
    "            mode = \"markers\",\n",
    "            marker = new Graph.Marker()\n",
    "            {\n",
    "                symbol = \"square\",\n",
    "                size = 16\n",
    "            }\n",
    "        }\n",
    "    }\n",
    ");\n",
    "chart.WithXTitle(\"Month\");\n",
    "chart.WithYTitle(\"Sales\");\n",
    "chart.WithTitle(\"Sales data\");\n",
    "chart.Width = 600;\n",
    "chart.Height = 600;\n",
    "chart.WithLegend(false);\n",
    "display(chart);"
   ]
  },
  {
   "cell_type": "code",
   "execution_count": 56,
   "metadata": {},
   "outputs": [
    {
     "name": "stdout",
     "output_type": "stream",
     "text": [
      "Training model...done\n"
     ]
    }
   ],
   "source": [
    "// build a training pipeline for detecting change points\n",
    "var pipeline2 = context.Transforms.DetectIidChangePoint(\n",
    "    outputColumnName: nameof(SalesPrediction.Prediction), \n",
    "    inputColumnName: nameof(SalesRecord.Sales), \n",
    "    confidence: 95, \n",
    "    changeHistoryLength: n / 4); // 25% of x-range\n",
    "\n",
    "// train the model\n",
    "Console.Write(\"Training model...\");\n",
    "var model2 = pipeline2.Fit(dataView);\n",
    "Console.WriteLine(\"done\");"
   ]
  },
  {
   "cell_type": "code",
   "execution_count": 57,
   "metadata": {},
   "outputs": [],
   "source": [
    "// get predictions\n",
    "predictions = model2.Transform(dataView);\n",
    "predictionArray = context.Data.CreateEnumerable<SalesPrediction>(predictions, reuseRowObject: false).ToArray();\n",
    "\n",
    "// find the change points in the data\n",
    "var changePoints = (from i in Enumerable.Range(0, predictionArray.Count()) \n",
    "                    where predictionArray[i].Prediction[0] == 1\n",
    "                    select (Day: i, Sales: sales[i].Sales));"
   ]
  },
  {
   "cell_type": "code",
   "execution_count": 58,
   "metadata": {},
   "outputs": [
    {
     "data": {
      "text/html": [
       "<div id=\"cd301198-9d9a-47ad-88d8-a713e3813509\" style=\"width: 600px; height: 600px;\"></div>\r\n",
       "<script type=\"text/javascript\">\n",
       "\r\n",
       "var renderPlotly = function() {\r\n",
       "    var xplotRequire = requirejs.config({context:'xplot-3.0.1',paths:{plotly:'https://cdn.plot.ly/plotly-1.49.2.min'}});\r\n",
       "    xplotRequire(['plotly'], function(Plotly) {\n",
       "\n",
       "            var data = [{\"type\":\"scattergl\",\"x\":[1,2,3,4,5,6,7,8,9,10,11,12,13,14,15,16,17,18,19,20,21,22,23,24,25,26,27,28,29,30,31,32,33,34,35,36],\"y\":[266.0,145.9,183.1,119.3,180.3,168.5,231.8,224.5,192.8,122.9,336.5,185.9,194.3,149.5,210.1,273.3,191.4,287.0,226.0,303.6,289.9,421.6,264.5,342.3,339.7,440.4,315.9,439.3,401.3,437.4,575.5,407.6,682.0,475.3,581.3,646.9],\"mode\":\"line\"},{\"type\":\"scattergl\",\"x\":[9],\"y\":[192.8],\"mode\":\"markers\",\"marker\":{\"symbol\":\"square\",\"size\":16}}];\n",
       "            var layout = {\"title\":\"Sales data\",\"showlegend\":false,\"xaxis\":{\"title\":\"Month\",\"_isSubplotObj\":true},\"yaxis\":{\"title\":\"Sales\",\"_isSubplotObj\":true}};\n",
       "            Plotly.newPlot('cd301198-9d9a-47ad-88d8-a713e3813509', data, layout);\n",
       "        \n",
       "});\r\n",
       "};\r\n",
       "if ((typeof(requirejs) !==  typeof(Function)) || (typeof(requirejs.config) !== typeof(Function))) { \r\n",
       "    var script = document.createElement(\"script\"); \r\n",
       "    script.setAttribute(\"src\", \"https://cdnjs.cloudflare.com/ajax/libs/require.js/2.3.6/require.min.js\"); \r\n",
       "    script.onload = function(){\r\n",
       "        renderPlotly();\r\n",
       "    };\r\n",
       "    document.getElementsByTagName(\"head\")[0].appendChild(script); \r\n",
       "}\r\n",
       "else {\r\n",
       "    renderPlotly();\r\n",
       "}\n",
       "</script>\n"
      ]
     },
     "metadata": {},
     "output_type": "display_data"
    }
   ],
   "source": [
    "// plot the change points\n",
    "var n = sales.Count();\n",
    "var chart = Chart.Plot(\n",
    "    new Graph.Scattergl[]\n",
    "    {\n",
    "        new Graph.Scattergl() {\n",
    "            x = Enumerable.Range(1,n),\n",
    "            y = (from i in Enumerable.Range(0,n) select sales[i].Sales),\n",
    "            mode = \"line\"\n",
    "        },\n",
    "        new Graph.Scattergl() {\n",
    "            x = (from c in changePoints select c.Day+1),\n",
    "            y = (from c in changePoints select c.Sales),\n",
    "            mode = \"markers\",\n",
    "            marker = new Graph.Marker()\n",
    "            {\n",
    "                symbol = \"square\",\n",
    "                size = 16\n",
    "            }\n",
    "        }\n",
    "    }\n",
    ");\n",
    "chart.WithXTitle(\"Month\");\n",
    "chart.WithYTitle(\"Sales\");\n",
    "chart.WithTitle(\"Sales data\");\n",
    "chart.Width = 600;\n",
    "chart.Height = 600;\n",
    "chart.WithLegend(false);\n",
    "display(chart);"
   ]
  }
 ],
 "metadata": {
  "kernelspec": {
   "display_name": ".NET (C#)",
   "language": "C#",
   "name": ".net-csharp"
  },
  "language_info": {
   "file_extension": ".cs",
   "mimetype": "text/x-csharp",
   "name": "C#",
   "pygments_lexer": "csharp",
   "version": "8.0"
  }
 },
 "nbformat": 4,
 "nbformat_minor": 2
}
