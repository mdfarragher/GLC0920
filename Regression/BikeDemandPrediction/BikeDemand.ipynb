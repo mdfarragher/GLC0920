{
 "cells": [
  {
   "cell_type": "markdown",
   "metadata": {},
   "source": [
    "# Assignment: Predict bike sharing demand in Washington DC\n",
    "\n",
    "In this assignment you're going to build an app that can predict bike sharing demand in Washington DC.\n",
    "\n",
    "A bike-sharing system is a service in which bicycles are made available to individuals on a short term. Users borrow a bike from a dock and return it at another dock belonging to the same system. Docks are bike racks that lock the bike, and only release it by computer control.\n",
    "\n",
    "You’ve probably seen docks around town, they look like this:\n",
    "\n",
    "![Bike sharing rack](./assets/bikesharing.jpeg)\n",
    "\n",
    "Bike sharing companies try to even out supply by manually distributing bikes across town, but they need to know how many bikes will be in demand at any given time in the city.\n",
    "\n",
    "So let’s give them a hand with a machine learning model!\n",
    "\n",
    "You are going to train a forest of regression decision trees on a dataset of bike sharing demand. Then you’ll use the fully-trained model to make a prediction for a given date and time.\n",
    "\n",
    "The first thing you will need is a data file with lots of bike sharing demand numbers. We are going to use the [UCI Bike Sharing Dataset](http://archive.ics.uci.edu/ml/datasets/bike+sharing+dataset) from [Capital Bikeshare](https://www.capitalbikeshare.com/) in Metro DC. This dataset has 17,380 bike sharing records that span a 2-year period.\n",
    "\n",
    "The dataset has already been downloaded and is available to your code as **bikedmand.csv**.\n",
    "\n",
    "The file looks like this:\n",
    "\n",
    "![Data File](./assets/data.png)\n",
    "\n",
    "It’s a comma-separated file with 17 columns:\n",
    "\n",
    "* Instant: the record index\n",
    "* Date: the date of the observation\n",
    "* Season: the season (1 = springer, 2 = summer, 3 = fall, 4 = winter)\n",
    "* Year: the year of the observation (0 = 2011, 1 = 2012)\n",
    "* Month: the month of the observation ( 1 to 12)\n",
    "* Hour: the hour of the observation (0 to 23)\n",
    "* Holiday: if the date is a holiday or not\n",
    "* Weekday: the day of the week of the observation\n",
    "* WorkingDay: if the date is a working day\n",
    "* Weather: the weather during the observation (1 = clear, 2 = mist, 3 = light snow/rain, 4 = heavy rain)\n",
    "* Temperature : the normalized temperature in Celsius\n",
    "* ATemperature: the normalized feeling temperature in Celsius\n",
    "* Humidity: the normalized humidity\n",
    "* Windspeed: the normalized wind speed\n",
    "* Casual: the number of casual bike users at the time\n",
    "* Registered: the number of registered bike users at the time\n",
    "* Count: the total number of rental bikes in operation at the time\n",
    "\n",
    "You can ignore the record index, the date, and the number of casual and registered bikes, and use everything else as input features. The final column **Count** is the label you're trying to predict.\n",
    "\n",
    "## Get started\n",
    "\n",
    "Let's get started. You need to install the following packages:"
   ]
  },
  {
   "cell_type": "code",
   "execution_count": 1,
   "metadata": {},
   "outputs": [
    {
     "data": {
      "text/html": [
       "Installed package Microsoft.ML.FastTree version 1.4.0"
      ]
     },
     "metadata": {},
     "output_type": "display_data"
    },
    {
     "data": {
      "text/html": [
       "Installed package Microsoft.ML version 1.4.0"
      ]
     },
     "metadata": {},
     "output_type": "display_data"
    }
   ],
   "source": [
    "#r nuget:Microsoft.ML\n",
    "#r nuget:Microsoft.ML.FastTree"
   ]
  },
  {
   "cell_type": "markdown",
   "metadata": {},
   "source": [
    "Now you are ready to add code. Please run the  following section:"
   ]
  },
  {
   "cell_type": "code",
   "execution_count": 3,
   "metadata": {},
   "outputs": [],
   "source": [
    "using System;\n",
    "using Microsoft.ML;\n",
    "using System.IO;\n",
    "using Microsoft.ML.Data;"
   ]
  },
  {
   "cell_type": "markdown",
   "metadata": {},
   "source": [
    "You will also need two classes: one for storing bike demand records, and one for storing your model's predictions:"
   ]
  },
  {
   "cell_type": "code",
   "execution_count": 4,
   "metadata": {},
   "outputs": [],
   "source": [
    "public class DemandObservation\n",
    "{\n",
    "    [LoadColumn(2)] public float Season { get; set; }\n",
    "    [LoadColumn(3)] public float Year { get; set; }\n",
    "    [LoadColumn(4)] public float Month { get; set; }\n",
    "    [LoadColumn(5)] public float Hour { get; set; }\n",
    "    [LoadColumn(6)] public float Holiday { get; set; }\n",
    "    [LoadColumn(7)] public float Weekday { get; set; }\n",
    "    [LoadColumn(8)] public float WorkingDay { get; set; }\n",
    "    [LoadColumn(9)] public float Weather { get; set; }\n",
    "    [LoadColumn(10)] public float Temperature { get; set; }\n",
    "    [LoadColumn(11)] public float NormalizedTemperature { get; set; }\n",
    "    [LoadColumn(12)] public float Humidity { get; set; }\n",
    "    [LoadColumn(13)] public float Windspeed { get; set; }\n",
    "    [LoadColumn(16)] [ColumnName(\"Label\")] public float Count { get; set; }\n",
    "}\n",
    "\n",
    "public class DemandPrediction\n",
    "{\n",
    "    [ColumnName(\"Score\")]\n",
    "    public float PredictedCount;\n",
    "}"
   ]
  },
  {
   "cell_type": "markdown",
   "metadata": {},
   "source": [
    "The **DemandObservation** class holds one single bike trip. Note how each field is tagged with a **LoadColumn** attribute that tells the CSV data loading code which column to import data from.\n",
    "\n",
    "You're also declaring a **DemandPrediction** class which will hold a single bike demand prediction.\n",
    "\n",
    "## Loading the data\n",
    "\n",
    "Now you need to load the training data in memory:"
   ]
  },
  {
   "cell_type": "code",
   "execution_count": 7,
   "metadata": {},
   "outputs": [
    {
     "name": "stdout",
     "output_type": "stream",
     "text": [
      "Loading data...done\n"
     ]
    }
   ],
   "source": [
    "// filename for data set\n",
    "private static string dataPath = Path.Combine(Environment.CurrentDirectory, \"bikedemand.csv\");\n",
    "\n",
    "// create the machine learning context\n",
    "var context = new MLContext();\n",
    "\n",
    "// load the dataset\n",
    "Console.Write(\"Loading data...\");\n",
    "var data = context.Data.LoadFromTextFile<DemandObservation>(\n",
    "    path: dataPath, \n",
    "    hasHeader:true, \n",
    "    separatorChar: ',');\n",
    "\n",
    "// split the dataset into 80% training and 20% testing\n",
    "var partitions = context.Data.TrainTestSplit(data, testFraction: 0.2);\n",
    "Console.WriteLine(\"done\");"
   ]
  },
  {
   "cell_type": "markdown",
   "metadata": {},
   "source": [
    "This code uses the method **LoadFromTextFile** to load the training and testing data directly into memory. The class field annotations tell the method how to store the loaded data in the **DemandObservation** class.\n",
    "\n",
    "Let's see if that worked. We're going to deserialize the training data into an enumeration of **DemandObservation** instances and do a quick visual check of the data:"
   ]
  },
  {
   "cell_type": "code",
   "execution_count": 8,
   "metadata": {},
   "outputs": [
    {
     "data": {
      "text/html": [
       "<table><thead><tr><th><i>index</i></th><th>Season</th><th>Year</th><th>Month</th><th>Hour</th><th>Holiday</th><th>Weekday</th><th>WorkingDay</th><th>Weather</th><th>Temperature</th><th>NormalizedTemperature</th><th>Humidity</th><th>Windspeed</th><th>Count</th></tr></thead><tbody><tr><td>0</td><td>1</td><td>0</td><td>1</td><td>0</td><td>0</td><td>6</td><td>0</td><td>1</td><td>0.24</td><td>0.2879</td><td>0.81</td><td>0</td><td>16</td></tr><tr><td>1</td><td>1</td><td>0</td><td>1</td><td>1</td><td>0</td><td>6</td><td>0</td><td>1</td><td>0.22</td><td>0.2727</td><td>0.8</td><td>0</td><td>40</td></tr><tr><td>2</td><td>1</td><td>0</td><td>1</td><td>2</td><td>0</td><td>6</td><td>0</td><td>1</td><td>0.22</td><td>0.2727</td><td>0.8</td><td>0</td><td>32</td></tr><tr><td>3</td><td>1</td><td>0</td><td>1</td><td>3</td><td>0</td><td>6</td><td>0</td><td>1</td><td>0.24</td><td>0.2879</td><td>0.75</td><td>0</td><td>13</td></tr><tr><td>4</td><td>1</td><td>0</td><td>1</td><td>4</td><td>0</td><td>6</td><td>0</td><td>1</td><td>0.24</td><td>0.2879</td><td>0.75</td><td>0</td><td>1</td></tr><tr><td>5</td><td>1</td><td>0</td><td>1</td><td>7</td><td>0</td><td>6</td><td>0</td><td>1</td><td>0.2</td><td>0.2576</td><td>0.86</td><td>0</td><td>3</td></tr><tr><td>6</td><td>1</td><td>0</td><td>1</td><td>8</td><td>0</td><td>6</td><td>0</td><td>1</td><td>0.24</td><td>0.2879</td><td>0.75</td><td>0</td><td>8</td></tr><tr><td>7</td><td>1</td><td>0</td><td>1</td><td>9</td><td>0</td><td>6</td><td>0</td><td>1</td><td>0.32</td><td>0.3485</td><td>0.76</td><td>0</td><td>14</td></tr><tr><td>8</td><td>1</td><td>0</td><td>1</td><td>10</td><td>0</td><td>6</td><td>0</td><td>1</td><td>0.38</td><td>0.3939</td><td>0.76</td><td>0.2537</td><td>36</td></tr><tr><td>9</td><td>1</td><td>0</td><td>1</td><td>11</td><td>0</td><td>6</td><td>0</td><td>1</td><td>0.36</td><td>0.3333</td><td>0.81</td><td>0.2836</td><td>56</td></tr></tbody></table>"
      ]
     },
     "metadata": {},
     "output_type": "display_data"
    }
   ],
   "source": [
    "// get an array of heartdata instances\n",
    "var data = context.Data.CreateEnumerable<DemandObservation>(partitions.TrainSet, reuseRowObject: false).ToArray();\n",
    "\n",
    "// display the result\n",
    "display(data.Take(10));"
   ]
  },
  {
   "cell_type": "markdown",
   "metadata": {},
   "source": [
    "That looks great! All the data in the set is loaded and available for training.\n",
    "\n",
    "## Training the model\n",
    "\n",
    "Now let’s build the machine learning pipeline:"
   ]
  },
  {
   "cell_type": "code",
   "execution_count": 9,
   "metadata": {},
   "outputs": [
    {
     "name": "stdout",
     "output_type": "stream",
     "text": [
      "Training the model...done\n"
     ]
    }
   ],
   "source": [
    "// build a training pipeline\n",
    "// step 1: concatenate all feature columns\n",
    "var pipeline = context.Transforms.Concatenate(\n",
    "    \"Features\",\n",
    "    nameof(DemandObservation.Season), \n",
    "    nameof(DemandObservation.Year), \n",
    "    nameof(DemandObservation.Month),\n",
    "    nameof(DemandObservation.Hour), \n",
    "    nameof(DemandObservation.Holiday), \n",
    "    nameof(DemandObservation.Weekday),\n",
    "    nameof(DemandObservation.WorkingDay), \n",
    "    nameof(DemandObservation.Weather), \n",
    "    nameof(DemandObservation.Temperature),\n",
    "    nameof(DemandObservation.NormalizedTemperature), \n",
    "    nameof(DemandObservation.Humidity), \n",
    "    nameof(DemandObservation.Windspeed))\n",
    "                                \n",
    "    // step 2: cache the data to speed up training\n",
    "    .AppendCacheCheckpoint(context)\n",
    "\n",
    "    // step 3: use a fast forest learner\n",
    "    .Append(context.Regression.Trainers.FastForest(\n",
    "        labelColumnName: \"Label\",\n",
    "        featureColumnName: \"Features\",\n",
    "        numberOfLeaves: 20,\n",
    "        numberOfTrees: 100,\n",
    "        minimumExampleCountPerLeaf: 10));\n",
    "\n",
    "// train the model\n",
    "Console.Write(\"Training the model...\");\n",
    "var trainedModel = pipeline.Fit(partitions.TrainSet);\n",
    "Console.WriteLine(\"done\");"
   ]
  },
  {
   "cell_type": "markdown",
   "metadata": {},
   "source": [
    "Machine learning models in ML.NET are built with pipelines which are sequences of data-loading, transformation, and learning components.\n",
    "\n",
    "This pipeline has the following components:\n",
    "\n",
    "* **Concatenate** which combines all input data columns into a single column called Features. This is a required step because ML.NET can only train on a single input column.\n",
    "* **AppendCacheCheckpoint** which caches all training data at this point. This is an optimization step that speeds up the learning algorithm.\n",
    "* A final **FastForest** regression learner which will train the model to make accurate predictions using a forest of decision trees.\n",
    "\n",
    "The **FastForest** learner is a very nice training algorithm that uses gradient boosting to build a forest of weak decision trees.\n",
    "\n",
    "Gradient boosting builds a stack of weak decision trees. It starts with a single weak tree that tries to predict the bike demand. Then it adds a second tree on top of the first one to correct the error in the first tree. And then it adds a third tree on top of the second one to correct the output of the second tree. And so on.\n",
    "\n",
    "The result is a fairly strong prediction model that is made up of a stack of weak decision trees that incrementally correct each other's output. \n",
    "\n",
    "Note the use of hyperparameters to configure the learner:\n",
    "\n",
    "* **NumberOfLeaves** is the maximum number of leaf nodes each weak decision tree will have. In this forest each tree will have at most 10 leaf nodes.\n",
    "* **NumberOfTrees** is the total number of weak decision trees to create in the forest. This forest will hold 100 trees.\n",
    "* **MinimumExampleCountPerLeaf** is the minimum number of data points at which a leaf node is split. In this model each leaf is split when it has 10 or more qualifying data points.\n",
    "\n",
    "These hyperparameters are the default for the **FastForest** learner, but you can tweak them if you want. \n",
    "\n",
    "With the pipeline fully assembled, you can train the model on the training partition with a call to **Fit**.\n",
    "\n",
    "## Evaluating the model\n",
    "\n",
    "You now have a fully- trained model. So next, you'll have to load the validation data, predict the bike demand, and calculate the accuracy of your model:"
   ]
  },
  {
   "cell_type": "code",
   "execution_count": 11,
   "metadata": {},
   "outputs": [
    {
     "name": "stdout",
     "output_type": "stream",
     "text": [
      "Evaluating the model...\n",
      "   RMSE: 102.76288088178428\n",
      "   MSE:  10560.209687123785\n",
      "   MAE:  75.80868125965083\n"
     ]
    }
   ],
   "source": [
    "// evaluate the model\n",
    "Console.WriteLine(\"Evaluating the model...\");\n",
    "var predictions = trainedModel.Transform(partitions.TestSet);\n",
    "var metrics = context.Regression.Evaluate(\n",
    "    data: predictions, \n",
    "    labelColumnName: \"Label\",\n",
    "    scoreColumnName: \"Score\");\n",
    "\n",
    "// show evaluation metrics\n",
    "Console.WriteLine($\"   RMSE: {metrics.RootMeanSquaredError}\");\n",
    "Console.WriteLine($\"   MSE:  {metrics.MeanSquaredError}\");\n",
    "Console.WriteLine($\"   MAE:  {metrics.MeanAbsoluteError}\");"
   ]
  },
  {
   "cell_type": "markdown",
   "metadata": {},
   "source": [
    "This code calls **Transform** to set up predictions for every single bike demand record in the test partition. The **Evaluate** method then compares these predictions to the actual bike demand and automatically calculates these metrics:\n",
    "\n",
    "* **RootMeanSquaredError**: this is the root mean squared error or RMSE value. It’s the go-to metric in the field of machine learning to evaluate models and rate their accuracy. RMSE represents the length of a vector in n-dimensional space, made up of the error in each individual prediction.\n",
    "* **MeanSquaredError**: this is the mean squared error, or MSE value. Note that RMSE and MSE are related: RMSE is the square root of MSE.\n",
    "* **MeanAbsoluteError**: this is the mean absolute prediction error or MAE value, expressed in number of bikes.\n",
    "\n",
    "We're getting an RMSE of 102.76. Unfortunately that doesn't really tell us anything. Is 102 good or bad? We don't know unless we can somehow compare this value with another training session.\n",
    "\n",
    "A better metric is MAE because this is the average prediction error expressed as the number of bikes. We're getting an MAE of 75.81 which means that on average my model's demand predictions are off by 76 bikes.\n",
    "\n",
    "## Making a prediction\n",
    "\n",
    "To wrap up, let’s use the model to make a prediction.\n",
    "\n",
    "I want to rent a bike in the fall of 2012, on a Thursday in August at 10am in the morning in clear weather. What will the bike demand be on that day?"
   ]
  },
  {
   "cell_type": "code",
   "execution_count": 14,
   "metadata": {},
   "outputs": [
    {
     "name": "stdout",
     "output_type": "stream",
     "text": [
      "Making a prediction...\n",
      "   331.03094 bikes required for Thursday, August 2020, 10AM\n"
     ]
    }
   ],
   "source": [
    "// set up a sample observation\n",
    "var sample = new DemandObservation()\n",
    "{\n",
    "    Season = 3,\n",
    "    Year = 1,\n",
    "    Month = 8,\n",
    "    Hour = 10,\n",
    "    Holiday = 0,\n",
    "    Weekday = 4,\n",
    "    WorkingDay = 1,\n",
    "    Weather = 1,\n",
    "    Temperature = 0.8f,\n",
    "    NormalizedTemperature = 0.7576f,\n",
    "    Humidity = 0.55f,\n",
    "    Windspeed = 0.2239f\n",
    "};\n",
    "\n",
    "// create a prediction engine\n",
    "var engine = context.Model.CreatePredictionEngine<DemandObservation, DemandPrediction>(trainedModel);\n",
    "\n",
    "// make the prediction\n",
    "Console.WriteLine(\"Making a prediction...\");\n",
    "var prediction = engine.Predict(sample);\n",
    "\n",
    "// show the prediction\n",
    "Console.WriteLine($\"   {prediction.PredictedCount} bikes required for Thursday, August 2020, 10AM\");"
   ]
  },
  {
   "cell_type": "markdown",
   "metadata": {},
   "source": [
    "Our prediction for the fall of 2012, on a Thursday in August at 10 am in the morning in clear weather, is that we'll need 331 bikes to cover demand.\n",
    "\n",
    "The mean average error in this prediction is 76 bikes or 23%.\n",
    "\n",
    " ## Further improvements\n",
    " \n",
    " How do you think this model can be improved even more?"
   ]
  }
 ],
 "metadata": {
  "kernelspec": {
   "display_name": ".NET (C#)",
   "language": "C#",
   "name": ".net-csharp"
  },
  "language_info": {
   "file_extension": ".cs",
   "mimetype": "text/x-csharp",
   "name": "C#",
   "pygments_lexer": "csharp",
   "version": "8.0"
  }
 },
 "nbformat": 4,
 "nbformat_minor": 4
}
