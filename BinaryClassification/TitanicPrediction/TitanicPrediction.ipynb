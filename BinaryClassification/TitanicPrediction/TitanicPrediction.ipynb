{
 "cells": [
  {
   "cell_type": "markdown",
   "metadata": {},
   "source": [
    "# Assignment: Predict who survived the Titanic disaster\n",
    "\n",
    "The sinking of the RMS Titanic is one of the most infamous shipwrecks in history. On April 15, 1912, during her maiden voyage, the Titanic sank after colliding with an iceberg, killing 1502 out of 2224 passengers and crew. This sensational tragedy shocked the international community and led to better safety regulations for ships.\n",
    "\n",
    "![Sinking Titanic](./assets/titanic.jpeg)\n",
    "\n",
    "In this assignment you're going to build an app that can predict which Titanic passengers survived the disaster. You will use a decision tree classifier to make your predictions.\n",
    "\n",
    "The first thing you will need for your app is the passenger manifest of the Titanic's last voyage. You will use the famous [Kaggle Titanic Dataset](https://github.com/sbaidachni/MLNETTitanic/tree/master/MLNetTitanic) which has data for a subset of 891 passengers.\n",
    "\n",
    "The training and testing data files have already been downloaded and are available to your code as **test_data.csv** and **train_data.csv**.\n",
    "\n",
    "The training data file looks like this:\n",
    "\n",
    "![Training data](./assets/data.jpg)\n",
    "\n",
    "It’s a CSV file with 12 columns of information:\n",
    "\n",
    "* The passenger identifier\n",
    "* The label column containing ‘1’ if the passenger survived and ‘0’ if the passenger perished\n",
    "* The class of travel (1–3)\n",
    "* The name of the passenger\n",
    "* The gender of the passenger (‘male’ or ‘female’)\n",
    "* The age of the passenger, or ‘0’ if the age is unknown\n",
    "* The number of siblings and/or spouses aboard\n",
    "* The number of parents and/or children aboard\n",
    "* The ticket number\n",
    "* The fare paid\n",
    "* The cabin number\n",
    "* The port in which the passenger embarked\n",
    "\n",
    "The second column is the label: 0 means the passenger perished, and 1 means the passenger survived. All other columns are input features from the passenger manifest.\n",
    "\n",
    "You're gooing to build a binary classification model that reads in all columns and then predicts for each passenger if he or she survived.\n",
    "\n",
    "## Get started\n",
    "\n",
    "Let’s get started. You will need to install the correct NuGet packages:"
   ]
  },
  {
   "cell_type": "code",
   "execution_count": 1,
   "metadata": {},
   "outputs": [
    {
     "data": {
      "text/html": [
       "Installed package Microsoft.ML.FastTree version 1.4.0"
      ]
     },
     "metadata": {},
     "output_type": "display_data"
    },
    {
     "data": {
      "text/html": [
       "Installed package Microsoft.ML version 1.4.0"
      ]
     },
     "metadata": {},
     "output_type": "display_data"
    }
   ],
   "source": [
    "#r nuget:Microsoft.ML\n",
    "#r nuget:Microsoft.ML.FastTree"
   ]
  },
  {
   "cell_type": "markdown",
   "metadata": {},
   "source": [
    "This will install the Microsoft ML.NET library and an additional library for fast decision tree learners. \n",
    "\n",
    "Now you are ready to add code. Run the following code block:"
   ]
  },
  {
   "cell_type": "code",
   "execution_count": 34,
   "metadata": {},
   "outputs": [],
   "source": [
    "using System.IO;\n",
    "using System.Linq;\n",
    "using Microsoft.ML;\n",
    "using Microsoft.ML.Data;\n",
    "using Microsoft.ML.Transforms;\n",
    "using XPlot.Plotly;"
   ]
  },
  {
   "cell_type": "markdown",
   "metadata": {},
   "source": [
    "You’ll also need a class to hold passenger data, and another class to hold your model predictions."
   ]
  },
  {
   "cell_type": "code",
   "execution_count": 9,
   "metadata": {},
   "outputs": [],
   "source": [
    "public class Passenger\n",
    "{\n",
    "    public bool Label;\n",
    "    public float Pclass;\n",
    "    public string Name;\n",
    "    public string Sex;\n",
    "    public string RawAge;\n",
    "    public float SibSp;\n",
    "    public float Parch;\n",
    "    public string Ticket;\n",
    "    public float Fare;\n",
    "    public string Cabin;\n",
    "    public string Embarked;\n",
    "}\n",
    "\n",
    "public class PassengerPrediction\n",
    "{\n",
    "    [ColumnName(\"PredictedLabel\")] public bool Prediction;\n",
    "    public float Probability;\n",
    "    public float Score;\n",
    "}"
   ]
  },
  {
   "cell_type": "markdown",
   "metadata": {},
   "source": [
    "The **Passenger** class holds one single passenger record. There's also a **PassengerPrediction** class which will hold a single passenger prediction. There's a boolean **Prediction**, a **Probability** value, and the **Score** the model will assign to the prediction.\n",
    "\n",
    "## Loading the data\n",
    "\n",
    "Now you're going to load the training data in memory:"
   ]
  },
  {
   "cell_type": "code",
   "execution_count": 5,
   "metadata": {},
   "outputs": [
    {
     "name": "stdout",
     "output_type": "stream",
     "text": [
      "Loading data...done\n"
     ]
    }
   ],
   "source": [
    "// filenames for training and test data\n",
    "private static string trainingDataPath = Path.Combine(Environment.CurrentDirectory, \"train_data.csv\");\n",
    "private static string testDataPath = Path.Combine(Environment.CurrentDirectory, \"test_data.csv\");\n",
    "\n",
    "// set up a machine learning context\n",
    "var mlContext = new MLContext();\n",
    "\n",
    "// set up a text loader\n",
    "var textLoader = mlContext.Data.CreateTextLoader(\n",
    "    new TextLoader.Options() \n",
    "    {\n",
    "        Separators = new[] { ',' },\n",
    "        HasHeader = true,\n",
    "        AllowQuoting = true,\n",
    "        Columns = new[] \n",
    "        {\n",
    "            new TextLoader.Column(\"Label\", DataKind.Boolean, 1),\n",
    "            new TextLoader.Column(\"Pclass\", DataKind.Single, 2),\n",
    "            new TextLoader.Column(\"Name\", DataKind.String, 3),\n",
    "            new TextLoader.Column(\"Sex\", DataKind.String, 4),\n",
    "            new TextLoader.Column(\"RawAge\", DataKind.String, 5),  // <-- not a float!\n",
    "            new TextLoader.Column(\"SibSp\", DataKind.Single, 6),\n",
    "            new TextLoader.Column(\"Parch\", DataKind.Single, 7),\n",
    "            new TextLoader.Column(\"Ticket\", DataKind.String, 8),\n",
    "            new TextLoader.Column(\"Fare\", DataKind.Single, 9),\n",
    "            new TextLoader.Column(\"Cabin\", DataKind.String, 10),\n",
    "            new TextLoader.Column(\"Embarked\", DataKind.String, 11)\n",
    "        }\n",
    "    }\n",
    ");\n",
    "\n",
    "// load training and test data\n",
    "Console.Write(\"Loading data...\");\n",
    "var trainingDataView = textLoader.Load(trainingDataPath);\n",
    "var testDataView = textLoader.Load(testDataPath);\n",
    "Console.WriteLine(\"done\");"
   ]
  },
  {
   "cell_type": "markdown",
   "metadata": {},
   "source": [
    "This code uses the **CreateTextLoader** method to create a CSV data loader. The **TextLoader.Options** class describes how to load each field. Then we call the text loader’s **Load** method twice to load the train- and test data in memory.\n",
    "\n",
    "Let's see if that worked.  We're going to deserialize the training data into an enumeration of **Passenger** instances and do a quick visual check of the data:"
   ]
  },
  {
   "cell_type": "code",
   "execution_count": 8,
   "metadata": {},
   "outputs": [
    {
     "data": {
      "text/html": [
       "<table><thead><tr><th><i>index</i></th><th>Label</th><th>Pclass</th><th>Name</th><th>Sex</th><th>RawAge</th><th>SibSp</th><th>Parch</th><th>Ticket</th><th>Fare</th><th>Cabin</th><th>Embarked</th></tr></thead><tbody><tr><td>0</td><td>True</td><td>1</td><td>Thorne, Mrs. Gertrude Maybelle</td><td>female</td><td></td><td>0</td><td>0</td><td>PC 17585</td><td>79.2</td><td></td><td>C</td></tr><tr><td>1</td><td>True</td><td>1</td><td>Silverthorne, Mr. Spencer Victor</td><td>male</td><td>35</td><td>0</td><td>0</td><td>PC 17475</td><td>26.2875</td><td>E24</td><td>S</td></tr><tr><td>2</td><td>False</td><td>3</td><td>Asim, Mr. Adola</td><td>male</td><td>35</td><td>0</td><td>0</td><td>SOTON/O.Q. 3101310</td><td>7.05</td><td></td><td>S</td></tr><tr><td>3</td><td>False</td><td>3</td><td>Ali, Mr. William</td><td>male</td><td>25</td><td>0</td><td>0</td><td>SOTON/O.Q. 3101312</td><td>7.05</td><td></td><td>S</td></tr><tr><td>4</td><td>False</td><td>3</td><td>Allum, Mr. Owen George</td><td>male</td><td>18</td><td>0</td><td>0</td><td>2223</td><td>8.3</td><td></td><td>S</td></tr><tr><td>5</td><td>False</td><td>3</td><td>Ahlin, Mrs. Johan (Johanna Persdotter Larsson)</td><td>female</td><td>40</td><td>1</td><td>0</td><td>7546</td><td>9.475</td><td></td><td>S</td></tr><tr><td>6</td><td>False</td><td>1</td><td>Smart, Mr. John Montgomery</td><td>male</td><td>56</td><td>0</td><td>0</td><td>113792</td><td>26.55</td><td></td><td>S</td></tr><tr><td>7</td><td>True</td><td>3</td><td>Dean, Master. Bertram Vere</td><td>male</td><td>1</td><td>1</td><td>2</td><td>C.A. 2315</td><td>20.575</td><td></td><td>S</td></tr><tr><td>8</td><td>True</td><td>1</td><td>Hoyt, Mrs. Frederick Maxfield (Jane Anne Forby)</td><td>female</td><td>35</td><td>1</td><td>0</td><td>19943</td><td>90</td><td>C93</td><td>S</td></tr><tr><td>9</td><td>False</td><td>3</td><td>Jussila, Miss. Mari Aina</td><td>female</td><td>21</td><td>1</td><td>0</td><td>4137</td><td>9.825</td><td></td><td>S</td></tr></tbody></table>"
      ]
     },
     "metadata": {},
     "output_type": "display_data"
    }
   ],
   "source": [
    "// get an array of heartdata instances\n",
    "var data = mlContext.Data.CreateEnumerable<Passenger>(trainingDataView, reuseRowObject: false).ToArray();\n",
    "\n",
    "// display the result\n",
    "display(data.Take(10));"
   ]
  },
  {
   "cell_type": "markdown",
   "metadata": {},
   "source": [
    "Notice the **Label** field that indicates if the passenger survived the Titanic disaster or perished. We also have the cabin class, passenger name, age, and gender, the number of accompanying children and parents, the ticket number, paid fare, cabin number, and embarkation point.\n",
    "\n",
    "But now look at the **Age** column. Did you notice that our first passenger, mrs Gertrude Thorne, has an empty age? This means we don't know her exact age at the time of the disaster, it wasn't recorded anywhere at the time.\n",
    "\n",
    "How can we train a machine learning model on the passenger age if some values are missing?\n",
    "\n",
    "## Cleaning the data\n",
    "\n",
    "ML.NET can actuall deal with missing data in CSV files, but it needs any missing data to appear as a ‘?’. Unfortunately in the Titanic dataset the missing ages appear as empty strings. So the first thing you need to do is replace all empty age strings occurrences with ‘?’.\n",
    "\n",
    "We'll need two extra classes to help us with that:"
   ]
  },
  {
   "cell_type": "code",
   "execution_count": 15,
   "metadata": {},
   "outputs": [],
   "source": [
    "/// <summary>\n",
    "/// The RawAge class is a helper class for a column transformation.\n",
    "/// </summary>\n",
    "public class FromAge\n",
    "{\n",
    "    public string RawAge;\n",
    "}\n",
    "\n",
    "/// <summary>\n",
    "/// The ProcessedAge class is a helper class for a column transformation.\n",
    "/// </summary>\n",
    "public class ToAge\n",
    "{\n",
    "    public string Age;\n",
    "}"
   ]
  },
  {
   "cell_type": "markdown",
   "metadata": {},
   "source": [
    "The **FromAge** class will hold the original age as a string and the **ToAge** class will hold the processed age where all empty strings have been replaced with the question mark character.\n",
    "\n",
    "Now let's set up a machine learning pipeloe that implements this specific age value replacement.\n",
    "\n",
    "We're also going to add some extra code to remove the Name, Cabin, and Ticket columns because we don't need them to make predictions.\n",
    "\n",
    "Add the following code:"
   ]
  },
  {
   "cell_type": "code",
   "execution_count": 17,
   "metadata": {},
   "outputs": [],
   "source": [
    "// set up a training pipeline\n",
    "// step 1: drop the name, cabin, and ticket columns\n",
    "var pipeline = mlContext.Transforms.DropColumns(\"Name\", \"Cabin\", \"Ticket\")\n",
    "\n",
    "    // step 2: replace missing ages with '?'\n",
    "    .Append(mlContext.Transforms.CustomMapping<FromAge, ToAge>(\n",
    "        (inp, outp) => { outp.Age = string.IsNullOrEmpty(inp.RawAge) ? \"?\" : inp.RawAge; },\n",
    "        \"AgeMapping\"\n",
    "    ));"
   ]
  },
  {
   "cell_type": "markdown",
   "metadata": {},
   "source": [
    "Machine learning models in ML.NET are built with pipelines, which are sequences of data-loading, transformation, and learning components.\n",
    "\n",
    "The first **DropColumn** component drops the Name, Cabin, and Ticket columns from the dataset. The next **CustomMapping** component converts empty age strings to ‘?’ values.\n",
    "\n",
    "Let's see if that worked. We're going to run the training data through the pipeline and display the results of the first 10 passengers:"
   ]
  },
  {
   "cell_type": "code",
   "execution_count": 20,
   "metadata": {},
   "outputs": [],
   "source": [
    "// train the model\n",
    "var model = pipeline.Fit(trainingDataView);\n",
    "\n",
    "// get predictions for every passenger\n",
    "var predictions = model.Transform(testDataView);"
   ]
  },
  {
   "cell_type": "markdown",
   "metadata": {},
   "source": [
    "This code calls **Fit** to train the model on the training data, and **Transform** to generate predictions for each passenger in the test set. Unfortunately we cannot display these predictions directly because the Jupyter server doesn't have built-in support to render the output correctly.\n",
    "\n",
    "However we can easily fix that by adding a helper method:"
   ]
  },
  {
   "cell_type": "code",
   "execution_count": 21,
   "metadata": {},
   "outputs": [],
   "source": [
    "using Microsoft.AspNetCore.Html;\n",
    "Formatter<DataDebuggerPreview>.Register((preview, writer) =>\n",
    "{\n",
    "    var headers = new List<IHtmlContent>();\n",
    "    headers.Add(th(i(\"index\")));\n",
    "    headers.AddRange(preview.ColumnView.Select(c => (IHtmlContent) th(c.Column.Name)));\n",
    "    var rows = new List<List<IHtmlContent>>();\n",
    "    var count = 0;\n",
    "    foreach (var row in preview.RowView)\n",
    "    {\n",
    "        var cells = new List<IHtmlContent>();\n",
    "        cells.Add(td(count));\n",
    "        foreach (var obj in row.Values)\n",
    "        {\n",
    "            cells.Add(td(obj.Value));\n",
    "        }\n",
    "        rows.Add(cells);\n",
    "        count++;\n",
    "    }\n",
    "    \n",
    "    var t = table(\n",
    "        thead(\n",
    "            headers),\n",
    "        tbody(\n",
    "            rows.Select(\n",
    "                r => tr(r))));\n",
    "    \n",
    "    writer.Write(t);\n",
    "}, \"text/html\");"
   ]
  },
  {
   "cell_type": "markdown",
   "metadata": {},
   "source": [
    "With the helper method fully set up, we can now render the output of the machine learning pipeline:"
   ]
  },
  {
   "cell_type": "code",
   "execution_count": 23,
   "metadata": {},
   "outputs": [
    {
     "data": {
      "text/html": [
       "<table><thead><th><i>index</i></th><th>Label</th><th>Pclass</th><th>Sex</th><th>RawAge</th><th>SibSp</th><th>Parch</th><th>Fare</th><th>Embarked</th><th>Age</th></thead><tbody><tr><td>0</td><td>True</td><td>1</td><td>female</td><td>38</td><td>1</td><td>0</td><td>71.2833</td><td>C</td><td>38</td></tr><tr><td>1</td><td>True</td><td>3</td><td>female</td><td>26</td><td>0</td><td>0</td><td>7.925</td><td>S</td><td>26</td></tr><tr><td>2</td><td>True</td><td>3</td><td>female</td><td>27</td><td>0</td><td>2</td><td>11.1333</td><td>S</td><td>27</td></tr><tr><td>3</td><td>True</td><td>3</td><td>female</td><td>4</td><td>1</td><td>1</td><td>16.7</td><td>S</td><td>4</td></tr><tr><td>4</td><td>True</td><td>2</td><td>male</td><td></td><td>0</td><td>0</td><td>13</td><td>S</td><td>?</td></tr><tr><td>5</td><td>False</td><td>3</td><td>female</td><td>8</td><td>3</td><td>1</td><td>21.075</td><td>S</td><td>8</td></tr><tr><td>6</td><td>False</td><td>3</td><td>male</td><td></td><td>0</td><td>0</td><td>7.8958</td><td>S</td><td>?</td></tr><tr><td>7</td><td>False</td><td>1</td><td>male</td><td>40</td><td>0</td><td>0</td><td>27.7208</td><td>C</td><td>40</td></tr><tr><td>8</td><td>False</td><td>2</td><td>male</td><td>66</td><td>0</td><td>0</td><td>10.5</td><td>S</td><td>66</td></tr><tr><td>9</td><td>False</td><td>3</td><td>male</td><td>21</td><td>0</td><td>0</td><td>8.05</td><td>S</td><td>21</td></tr></tbody></table>"
      ]
     },
     "metadata": {},
     "output_type": "display_data"
    }
   ],
   "source": [
    "// show a 5-record preview of the output of the machine learning pipeline\n",
    "var preview = predictions.Preview(maxRows: 10);\n",
    "display(preview);"
   ]
  },
  {
   "cell_type": "markdown",
   "metadata": {},
   "source": [
    "Compare the **RawAge** and **Age** columns. For every passenger with an empty value in the RawAge column, we now have a corresponding question mark in the Age column. The conversion works perfectly.\n",
    "\n",
    "ML.NET is now happy with the age values. You will now convert the string ages to numeric values and instruct ML.NET to replace any missing values with the mean age over the entire dataset:"
   ]
  },
  {
   "cell_type": "code",
   "execution_count": 25,
   "metadata": {},
   "outputs": [],
   "source": [
    "// step 3: convert string ages to floats\n",
    "var pipeline2 = pipeline\n",
    "    .Append(mlContext.Transforms.Conversion.ConvertType(\n",
    "        \"Age\",\n",
    "        outputKind: DataKind.Single\n",
    "    ))\n",
    "\n",
    "    // step 4: replace missing age values with the mean age\n",
    "    .Append(mlContext.Transforms.ReplaceMissingValues(\n",
    "        \"Age\",\n",
    "        replacementMode: MissingValueReplacingEstimator.ReplacementMode.Mean));\n"
   ]
  },
  {
   "cell_type": "markdown",
   "metadata": {},
   "source": [
    "The **ConvertType** component converts the Age column to a single-precision floating point value. And the **ReplaceMissingValues** component replaces any missing values with the mean value of all ages in the entire dataset. \n",
    "\n",
    "Let's see if that worked. We'll call **Fit** and **Transform** again to generate a new set of predictions using this modified pipeline:"
   ]
  },
  {
   "cell_type": "code",
   "execution_count": 27,
   "metadata": {},
   "outputs": [
    {
     "data": {
      "text/html": [
       "<table><thead><th><i>index</i></th><th>Label</th><th>Pclass</th><th>Sex</th><th>RawAge</th><th>SibSp</th><th>Parch</th><th>Fare</th><th>Embarked</th><th>Age</th><th>Age</th><th>Age</th></thead><tbody><tr><td>0</td><td>True</td><td>1</td><td>female</td><td>38</td><td>1</td><td>0</td><td>71.2833</td><td>C</td><td>38</td><td>38</td><td>38</td></tr><tr><td>1</td><td>True</td><td>3</td><td>female</td><td>26</td><td>0</td><td>0</td><td>7.925</td><td>S</td><td>26</td><td>26</td><td>26</td></tr><tr><td>2</td><td>True</td><td>3</td><td>female</td><td>27</td><td>0</td><td>2</td><td>11.1333</td><td>S</td><td>27</td><td>27</td><td>27</td></tr><tr><td>3</td><td>True</td><td>3</td><td>female</td><td>4</td><td>1</td><td>1</td><td>16.7</td><td>S</td><td>4</td><td>4</td><td>4</td></tr><tr><td>4</td><td>True</td><td>2</td><td>male</td><td></td><td>0</td><td>0</td><td>13</td><td>S</td><td>?</td><td>NaN</td><td>30.149336</td></tr><tr><td>5</td><td>False</td><td>3</td><td>female</td><td>8</td><td>3</td><td>1</td><td>21.075</td><td>S</td><td>8</td><td>8</td><td>8</td></tr><tr><td>6</td><td>False</td><td>3</td><td>male</td><td></td><td>0</td><td>0</td><td>7.8958</td><td>S</td><td>?</td><td>NaN</td><td>30.149336</td></tr><tr><td>7</td><td>False</td><td>1</td><td>male</td><td>40</td><td>0</td><td>0</td><td>27.7208</td><td>C</td><td>40</td><td>40</td><td>40</td></tr><tr><td>8</td><td>False</td><td>2</td><td>male</td><td>66</td><td>0</td><td>0</td><td>10.5</td><td>S</td><td>66</td><td>66</td><td>66</td></tr><tr><td>9</td><td>False</td><td>3</td><td>male</td><td>21</td><td>0</td><td>0</td><td>8.05</td><td>S</td><td>21</td><td>21</td><td>21</td></tr></tbody></table>"
      ]
     },
     "metadata": {},
     "output_type": "display_data"
    }
   ],
   "source": [
    "// get predictions using the new pipeline\n",
    "var model2 = pipeline2.Fit(trainingDataView);\n",
    "predictions = model2.Transform(testDataView);\n",
    "display(predictions.Preview(maxRows: 10));"
   ]
  },
  {
   "cell_type": "markdown",
   "metadata": {},
   "source": [
    "ML.NET has added two extra **Age** columns to perform the data conversion. The final column is all the way to the right and contains a valid numerical age for every passenger. All missing ages have been replaced with 30.15 years which is the mean over the entire dataset.\n",
    "\n",
    "## Training the model\n",
    "\n",
    "Now let's process the rest of the data columns. The Sex and Embarked columns are enumerations of string values. As you've learned in the Processing Data section, you'll need to one-hot encode them first:"
   ]
  },
  {
   "cell_type": "code",
   "execution_count": 30,
   "metadata": {},
   "outputs": [],
   "source": [
    "// step 5: replace sex and embarked columns with one-hot encoded vectors\n",
    "var pipeline3 = pipeline2\n",
    "    .Append(mlContext.Transforms.Categorical.OneHotEncoding(\"Sex\"))\n",
    "    .Append(mlContext.Transforms.Categorical.OneHotEncoding(\"Embarked\"));"
   ]
  },
  {
   "cell_type": "markdown",
   "metadata": {},
   "source": [
    "The **OneHotEncoding** component takes an input column, one-hot encodes all values, and produces a new column with the same name holding the one-hot vectors. \n",
    "\n",
    "Now let's wrap up the pipeline:"
   ]
  },
  {
   "cell_type": "code",
   "execution_count": 31,
   "metadata": {},
   "outputs": [],
   "source": [
    "// step 6: concatenate everything into a single feature column \n",
    "var pipeline4 = pipeline3\n",
    "    .Append(mlContext.Transforms.Concatenate(\n",
    "        \"Features\", \n",
    "        \"Age\",\n",
    "        \"Pclass\", \n",
    "        \"SibSp\",\n",
    "        \"Parch\",\n",
    "        \"Sex\",\n",
    "        \"Embarked\"))\n",
    "\n",
    "    // step 7: use a fasttree trainer\n",
    "    .Append(mlContext.BinaryClassification.Trainers.FastTree(\n",
    "        labelColumnName: \"Label\", \n",
    "        featureColumnName: \"Features\"));"
   ]
  },
  {
   "cell_type": "markdown",
   "metadata": {},
   "source": [
    "The **Concatenate** component concatenates all remaining feature columns into a single column for training. This is required because ML.NET can only train on a single input column.\n",
    "\n",
    "And the **FastTreeBinaryClassificationTrainer** is the algorithm that's going to train the model. You're going to build a decision tree classifier that uses the Fast Tree algorithm to train on the data and configure the tree.\n",
    "\n",
    "Now all you need to do now is train the model on the entire dataset:"
   ]
  },
  {
   "cell_type": "code",
   "execution_count": 32,
   "metadata": {},
   "outputs": [
    {
     "name": "stdout",
     "output_type": "stream",
     "text": [
      "Training model...done\n"
     ]
    }
   ],
   "source": [
    "// train the model\n",
    "Console.Write(\"Training model...\");\n",
    "var trainedModel = pipeline4.Fit(trainingDataView);\n",
    "Console.WriteLine(\"done\");"
   ]
  },
  {
   "cell_type": "markdown",
   "metadata": {},
   "source": [
    "## Evaluating the model\n",
    "\n",
    "Now let's see how accurate these predictions are. We're going to generate predictions for every passenger and compare these predictions to the dataset labels, and then calculate a couple of metrics to evaluate the quality of the model:"
   ]
  },
  {
   "cell_type": "code",
   "execution_count": 33,
   "metadata": {},
   "outputs": [
    {
     "name": "stdout",
     "output_type": "stream",
     "text": [
      "Evaluating model...\n",
      "  Accuracy:          83.80%\n",
      "  Auc:               88.29%\n",
      "  Auprc:             86.75%\n",
      "  F1Score:           77.52%\n",
      "  LogLoss:           0.63\n",
      "  LogLossReduction:  0.32\n",
      "  PositivePrecision: 0.76\n",
      "  PositiveRecall:    0.79\n",
      "  NegativePrecision: 0.88\n",
      "  NegativeRecall:    0.86\n"
     ]
    }
   ],
   "source": [
    "// make predictions for the test data set\n",
    "Console.WriteLine(\"Evaluating model...\");\n",
    "var predictions = trainedModel.Transform(testDataView);\n",
    "\n",
    "// compare the predictions with the ground truth\n",
    "var metrics = mlContext.BinaryClassification.Evaluate(\n",
    "    data: predictions, \n",
    "    labelColumnName: \"Label\", \n",
    "    scoreColumnName: \"Score\");\n",
    "\n",
    "// report the results\n",
    "Console.WriteLine($\"  Accuracy:          {metrics.Accuracy:P2}\");\n",
    "Console.WriteLine($\"  Auc:               {metrics.AreaUnderRocCurve:P2}\");\n",
    "Console.WriteLine($\"  Auprc:             {metrics.AreaUnderPrecisionRecallCurve:P2}\");\n",
    "Console.WriteLine($\"  F1Score:           {metrics.F1Score:P2}\");\n",
    "Console.WriteLine($\"  LogLoss:           {metrics.LogLoss:0.##}\");\n",
    "Console.WriteLine($\"  LogLossReduction:  {metrics.LogLossReduction:0.##}\");\n",
    "Console.WriteLine($\"  PositivePrecision: {metrics.PositivePrecision:0.##}\");\n",
    "Console.WriteLine($\"  PositiveRecall:    {metrics.PositiveRecall:0.##}\");\n",
    "Console.WriteLine($\"  NegativePrecision: {metrics.NegativePrecision:0.##}\");\n",
    "Console.WriteLine($\"  NegativeRecall:    {metrics.NegativeRecall:0.##}\");"
   ]
  },
  {
   "cell_type": "markdown",
   "metadata": {},
   "source": [
    "This code calls **Transform** to set up a prediction for each passenger, and **Evaluate** to compare these predictions to the label and automatically calculate all evaluation metrics:\n",
    "\n",
    "* **Accuracy**: this is the number of correct predictions divided by the total number of predictions.\n",
    "* **AreaUnderRocCurve**: a metric that indicates how accurate the model is: 0 = the model is wrong all the time, 0.5 = the model produces random output, 1 = the model is correct all the time. An AUC of 0.8 or higher is considered good.\n",
    "* **AreaUnderPrecisionRecallCurve**: an alternate AUC metric that performs better for heavily imbalanced datasets with many more negative results than positive.\n",
    "* **F1Score**: this is a metric that strikes a balance between Precision and Recall. It’s useful for imbalanced datasets with many more negative results than positive.\n",
    "* **LogLoss**: this is a metric that expresses the size of the error in the predictions the model is making. A logloss of zero means every prediction is correct, and the loss value rises as the model makes more and more mistakes.\n",
    "* **LogLossReduction**: this metric is also called the Reduction in Information Gain (RIG). It expresses the probability that the model’s predictions are better than random chance.\n",
    "* **PositivePrecision**: also called ‘Precision’, this is the fraction of positive predictions that are correct. This is a good metric to use when the cost of a false positive prediction is high.\n",
    "* **PositiveRecall**: also called ‘Recall’, this is the fraction of positive predictions out of all positive cases. This is a good metric to use when the cost of a false negative is high.\n",
    "* **NegativePrecision**: this is the fraction of negative predictions that are correct.\n",
    "* **NegativeRecall**: this is the fraction of negative predictions out of all negative cases.\n",
    "\n",
    "The dataset is reasonably balanced. Out of 891 passengers, 342 survived. That's 38% of the dataset, so we are looking at a 62/38 balance. It's not perfect, but not too bad either. Given the equal cost of false positives and negatives, and the level of balance in the dataset, we can safely use the Accuracy metric to evaluate the model.\n",
    "\n",
    "We're getting an accuracy of 83.8%. It means that for every 100 Titanic passengers the model is able to predict 83 of them correctly. That’s not bad at all.\n",
    "\n",
    "We're also getting an AUC value of 0.8829. This is great, it means the model has good (almost excellent) predictive ability.\n",
    "\n",
    "Let's wrap the evaluation up by plotting the confusion matrix:"
   ]
  },
  {
   "cell_type": "code",
   "execution_count": 42,
   "metadata": {},
   "outputs": [
    {
     "data": {
      "text/html": [
       "<div id=\"a9f34569-f4e3-42b0-bd72-fc81eb30d8f0\" style=\"width: 600px; height: 600px;\"></div>\r\n",
       "<script type=\"text/javascript\">\n",
       "\r\n",
       "var renderPlotly = function() {\r\n",
       "    var xplotRequire = requirejs.config({context:'xplot-3.0.1',paths:{plotly:'https://cdn.plot.ly/plotly-1.49.2.min'}});\r\n",
       "    xplotRequire(['plotly'], function(Plotly) {\n",
       "\n",
       "            var data = [{\"type\":\"scattergl\",\"x\":[0,1,0,1],\"y\":[0,0,1,1],\"mode\":\"markers\",\"marker\":{\"symbol\":\"square\",\"size\":164,\"color\":[-48.0,-14.0,-11.0,-98.0],\"colorscale\":\"Greys\"}}];\n",
       "            var layout = {\"title\":\"Confusion matrix\",\"xaxis\":{\"title\":\"Predicted value\",\"_isSubplotObj\":true},\"yaxis\":{\"title\":\"Actual value\",\"_isSubplotObj\":true}};\n",
       "            Plotly.newPlot('a9f34569-f4e3-42b0-bd72-fc81eb30d8f0', data, layout);\n",
       "        \n",
       "});\r\n",
       "};\r\n",
       "if ((typeof(requirejs) !==  typeof(Function)) || (typeof(requirejs.config) !== typeof(Function))) { \r\n",
       "    var script = document.createElement(\"script\"); \r\n",
       "    script.setAttribute(\"src\", \"https://cdnjs.cloudflare.com/ajax/libs/require.js/2.3.6/require.min.js\"); \r\n",
       "    script.onload = function(){\r\n",
       "        renderPlotly();\r\n",
       "    };\r\n",
       "    document.getElementsByTagName(\"head\")[0].appendChild(script); \r\n",
       "}\r\n",
       "else {\r\n",
       "    renderPlotly();\r\n",
       "}\n",
       "</script>\n"
      ]
     },
     "metadata": {},
     "output_type": "display_data"
    }
   ],
   "source": [
    "// plot the confusion matrix\n",
    "var n = metrics.ConfusionMatrix.NumberOfClasses;\n",
    "var chart = Chart.Plot(\n",
    "    new Graph.Scattergl()\n",
    "    {\n",
    "        x = (from i in Enumerable.Range(0,n) from j in Enumerable.Range(0,n) select j),\n",
    "        y = (from i in Enumerable.Range(0,n) from j in Enumerable.Range(0,n) select i),\n",
    "        mode = \"markers\",\n",
    "        marker = new Graph.Marker()\n",
    "        {\n",
    "            symbol = \"square\",\n",
    "            size = 164,\n",
    "            color = from i in Enumerable.Range(0,n) from j in Enumerable.Range(0,n) select n-metrics.ConfusionMatrix.Counts[j][i],\n",
    "            colorscale = \"Greys\"\n",
    "        }\n",
    "    }\n",
    ");\n",
    "chart.WithXTitle(\"Predicted value\");\n",
    "chart.WithYTitle(\"Actual value\");\n",
    "chart.WithTitle(\"Confusion matrix\");\n",
    "chart.Width = 600;\n",
    "chart.Height = 600;\n",
    "display(chart);"
   ]
  },
  {
   "cell_type": "markdown",
   "metadata": {},
   "source": [
    "The confusion matrix clearly shows that the model is very good at predicting survivors but struggles a bit when predicting the victims: we have a solid black true positives cell but a dark grey true negatives cell. There are almost no false negatives but we do have some false positives where the model predicts that a passenger survived but he or she actually perished. \n",
    "\n",
    "## Making a prediction\n",
    "\n",
    "To wrap up, let's have some fun and pretend that I’m going to take a trip on the Titanic too. I will embark in Southampton and pay $70 for a first-class cabin. I travel on my own without parents, children, or my spouse. \n",
    "\n",
    "What are my odds of surviving?\n",
    "\n",
    "Add the following code:"
   ]
  },
  {
   "cell_type": "code",
   "execution_count": 41,
   "metadata": {},
   "outputs": [
    {
     "name": "stdout",
     "output_type": "stream",
     "text": [
      "Making a prediction...\n",
      "Passenger:   Mark Farragher \n",
      "Prediction:  survived \n",
      "Probability: 0.8422213 \n"
     ]
    }
   ],
   "source": [
    "// set up a prediction engine\n",
    "Console.WriteLine(\"Making a prediction...\");\n",
    "var predictionEngine = mlContext.Model.CreatePredictionEngine<Passenger, PassengerPrediction>(trainedModel);\n",
    "\n",
    "// create a sample record\n",
    "var passenger = new Passenger()\n",
    "{ \n",
    "    Pclass = 1,\n",
    "    Name = \"Mark Farragher\",\n",
    "    Sex = \"male\",\n",
    "    RawAge = \"48\",\n",
    "    SibSp = 0,\n",
    "    Parch = 0,\n",
    "    Fare = 70,\n",
    "    Embarked = \"S\"\n",
    "};\n",
    "\n",
    "// make the prediction\n",
    "var prediction = predictionEngine.Predict(passenger);\n",
    "\n",
    "// report the results\n",
    "Console.WriteLine($\"Passenger:   {passenger.Name} \");\n",
    "Console.WriteLine($\"Prediction:  {(prediction.Prediction ? \"survived\" : \"perished\" )} \");\n",
    "Console.WriteLine($\"Probability: {prediction.Probability} \");"
   ]
  },
  {
   "cell_type": "markdown",
   "metadata": {},
   "source": [
    "This code uses the **CreatePredictionEngine** method to set up a prediction engine. The two type arguments are the input data class and the class to hold the prediction. And once the prediction engine is set up, you can simply call **Predict** to make a single prediction.\n",
    "\n",
    "So would I have survived the Titanic disaster?\n",
    "\n",
    " I’m happy to learn that I survived the Titanic disaster. My model predicts that I had a 84.22% chance of making it off the ship alive. It’s probably because I booked a first-class cabin and traveled alone.\n",
    " \n",
    " ## Further improvements\n",
    " \n",
    " How do you think this model can be improved even more?"
   ]
  }
 ],
 "metadata": {
  "kernelspec": {
   "display_name": ".NET (C#)",
   "language": "C#",
   "name": ".net-csharp"
  },
  "language_info": {
   "file_extension": ".cs",
   "mimetype": "text/x-csharp",
   "name": "C#",
   "pygments_lexer": "csharp",
   "version": "8.0"
  }
 },
 "nbformat": 4,
 "nbformat_minor": 4
}
